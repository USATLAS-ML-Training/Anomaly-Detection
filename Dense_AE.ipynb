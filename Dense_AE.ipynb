{
 "cells": [
  {
   "cell_type": "code",
   "execution_count": 1,
   "id": "2eed194b",
   "metadata": {},
   "outputs": [],
   "source": [
    "#Choose the ATLAS ML kernel from the dropdown menu!\n",
    "import numpy as np\n",
    "import h5py\n",
    "import math\n",
    "import os\n",
    "import pathlib\n",
    "import matplotlib.pyplot as plt\n",
    "import matplotlib\n",
    "%matplotlib inline\n",
    "import tensorflow as tf\n",
    "import tensorflow.keras as keras\n",
    "from tensorflow.keras.models import Model\n",
    "from tensorflow.keras.layers import Input, Dense, BatchNormalization, Activation, Layer, ReLU, LeakyReLU\n",
    "from tensorflow.keras import backend as K"
   ]
  },
  {
   "cell_type": "code",
   "execution_count": 2,
   "id": "a4bd0f16",
   "metadata": {},
   "outputs": [],
   "source": [
    "from func import load_model, save_model, SetStyle\n",
    "SetStyle()"
   ]
  },
  {
   "cell_type": "markdown",
   "id": "8b6ccfb7",
   "metadata": {},
   "source": [
    "## Load background dataset"
   ]
  },
  {
   "cell_type": "code",
   "execution_count": 5,
   "id": "7b608318",
   "metadata": {},
   "outputs": [],
   "source": [
    "dataset_folder = '/global/cfs/cdirs/ntrain5/atlas-ml-training/anomaly_detection/'\n",
    "#Be sure to run first\n",
    "# python create_datasets.py --bkg_file background_for_training.h5 --output_bkg_name 'BKG' --signals_files 'Ato4l_lepFilter_13TeV.h5' --output_signal_names 'Ato4l_lepFilter_13TeV' --events=1000000\n",
    "filename = 'BKG_dataset.h5'"
   ]
  },
  {
   "cell_type": "code",
   "execution_count": 6,
   "id": "d79760b7",
   "metadata": {},
   "outputs": [],
   "source": [
    "# make sure input data has correct input shape - background training data\n",
    "with h5py.File(dataset_folder+filename, 'r') as file:\n",
    "    X_train = np.array(file['X_train'])\n",
    "    X_test = np.array(file['X_test'])\n",
    "    X_val = np.array(file['X_val'])"
   ]
  },
  {
   "cell_type": "markdown",
   "id": "f008dda6",
   "metadata": {},
   "source": [
    "## Let us build an autoencoder with fully-connected layers <img src=\"assets/autoencoder.png\" width=400 height=400 />\n"
   ]
  },
  {
   "cell_type": "code",
   "execution_count": null,
   "id": "a58ba9a1",
   "metadata": {},
   "outputs": [],
   "source": [
    "input_shape = 57\n",
    "latent_dimension = 8\n",
    "num_nodes=[32,16]"
   ]
  },
  {
   "cell_type": "code",
   "execution_count": null,
   "id": "061a29e8",
   "metadata": {},
   "outputs": [],
   "source": [
    "#encoder\n",
    "inputArray = Input(shape=(input_shape))\n",
    "x = Dense(num_nodes[0], use_bias=False,activation='relu')(inputArray)\n",
    "x = Dense(num_nodes[1], use_bias=False,activation='relu')(x)\n",
    "encoder = Dense(latent_dimension, use_bias=False,activation='relu')(x)\n",
    "\n",
    "#decoder\n",
    "x = Dense(num_nodes[1], use_bias=False,activation='relu')(encoder)\n",
    "x = Dense(num_nodes[0], use_bias=False,activation='relu')(x)\n",
    "decoder = Dense(input_shape)(x)\n",
    "\n",
    "#create autoencoder\n",
    "autoencoder = Model(inputs = inputArray, outputs=decoder)\n",
    "autoencoder.summary()"
   ]
  },
  {
   "cell_type": "code",
   "execution_count": null,
   "id": "327587d4",
   "metadata": {},
   "outputs": [],
   "source": [
    "autoencoder.compile(optimizer = keras.optimizers.Adam(), loss='mse')"
   ]
  },
  {
   "cell_type": "markdown",
   "id": "d180b383",
   "metadata": {},
   "source": [
    "## Trainining and saving the model"
   ]
  },
  {
   "cell_type": "code",
   "execution_count": null,
   "id": "1ac10279",
   "metadata": {},
   "outputs": [],
   "source": [
    "EPOCHS = 50\n",
    "BATCH_SIZE = 10000"
   ]
  },
  {
   "cell_type": "code",
   "execution_count": null,
   "id": "c3d9a1af",
   "metadata": {},
   "outputs": [],
   "source": [
    "history = autoencoder.fit(X_train, X_train, epochs = EPOCHS, batch_size = BATCH_SIZE,\n",
    "                  validation_data=(X_val, X_val))"
   ]
  },
  {
   "cell_type": "code",
   "execution_count": null,
   "id": "5bfe2ffa",
   "metadata": {},
   "outputs": [],
   "source": [
    "model_name = 'DNN_AE'\n",
    "model_directory = 'DNNS/'\n",
    "if not os.path.exists(model_directory+model_name):\n",
    "    os.makedirs(model_directory+model_name)\n",
    "save_model(model_directory+model_name, autoencoder)"
   ]
  },
  {
   "cell_type": "markdown",
   "id": "39a53a30",
   "metadata": {},
   "source": [
    "## Let's take a look at the reconstruction for the background"
   ]
  },
  {
   "cell_type": "code",
   "execution_count": null,
   "id": "3ef08cfd",
   "metadata": {},
   "outputs": [],
   "source": [
    "bkg_prediction = autoencoder.predict(X_test)"
   ]
  },
  {
   "cell_type": "markdown",
   "id": "25666d64",
   "metadata": {},
   "source": [
    "## Now let's take a look at the signals! <img src=\"assets/NP.png\" width=800 height=200 />"
   ]
  },
  {
   "cell_type": "code",
   "execution_count": null,
   "id": "1cb44bcc",
   "metadata": {},
   "outputs": [],
   "source": [
    "# add correct signal labels: defined within the h5 file created by the data processing script\n",
    "signal_labels = ['A to 4 leptons',\n",
    "                 'h to tau tau',\n",
    "                 'leptoquark',\n",
    "                 'charged h to tau nu']\n",
    "# add correct path to signal files\n",
    "signals_file = ['Ato4l_lepFilter_13TeV_dataset.h5',\n",
    "                'hToTauTau_13TeV_PU20_dataset.h5',\n",
    "                'leptoquark_LOWMASS_lepFilter_13TeV_dataset.h5',\n",
    "                'hChToTauNu_13TeV_PU20_dataset.h5']"
   ]
  },
  {
   "cell_type": "code",
   "execution_count": null,
   "id": "84c463c9",
   "metadata": {},
   "outputs": [],
   "source": [
    "# read signal data\n",
    "signal_data = []\n",
    "for i, label in enumerate(signal_labels):\n",
    "    with h5py.File(dataset_folder+signals_file[i], 'r') as file:\n",
    "        test_data = np.array(file['Data'])\n",
    "    signal_data.append(test_data)"
   ]
  },
  {
   "cell_type": "code",
   "execution_count": null,
   "id": "74a4e664",
   "metadata": {},
   "outputs": [],
   "source": [
    "signal_results = []\n",
    "\n",
    "for i, label in enumerate(signal_labels):\n",
    "    signal_prediction = autoencoder.predict(signal_data[i])\n",
    "    signal_results.append([label, signal_data[i], signal_prediction]) # save [label, true, prediction] for signal"
   ]
  },
  {
   "cell_type": "markdown",
   "id": "c71078e8",
   "metadata": {},
   "source": [
    "## Before looking into the results, let's save the trained model in case we want to use it again"
   ]
  },
  {
   "cell_type": "code",
   "execution_count": null,
   "id": "5db33fa3",
   "metadata": {},
   "outputs": [],
   "source": [
    "save_file = 'dnn_results'"
   ]
  },
  {
   "cell_type": "code",
   "execution_count": null,
   "id": "63cd5a03",
   "metadata": {},
   "outputs": [],
   "source": [
    "with h5py.File(save_file, 'w') as file:\n",
    "    file.create_dataset('BKG_input', data=X_test)\n",
    "    file.create_dataset('BKG_predicted', data = bkg_prediction)\n",
    "    for i, sig in enumerate(signal_results):\n",
    "        file.create_dataset('%s_input' %sig[0], data=sig[1])\n",
    "        file.create_dataset('%s_predicted' %sig[0], data=sig[2])"
   ]
  },
  {
   "cell_type": "markdown",
   "id": "02762ad2",
   "metadata": {},
   "source": [
    "# Evaluating the autoencoder"
   ]
  },
  {
   "cell_type": "markdown",
   "id": "44d5421a",
   "metadata": {},
   "source": [
    "## Let's take a look at the reconstruction error for the different signals and background"
   ]
  },
  {
   "cell_type": "code",
   "execution_count": null,
   "id": "71bf3eb5",
   "metadata": {},
   "outputs": [],
   "source": [
    "from func import mse_loss"
   ]
  },
  {
   "cell_type": "code",
   "execution_count": null,
   "id": "4e2ced7a",
   "metadata": {},
   "outputs": [],
   "source": [
    "# compute loss value (true, predicted)\n",
    "total_loss = []\n",
    "total_loss.append(mse_loss(X_test, bkg_prediction))\n",
    "for i, signal_X in enumerate(signal_data):\n",
    "    total_loss.append(mse_loss(signal_X, signal_results[i][2]))"
   ]
  },
  {
   "cell_type": "code",
   "execution_count": 1,
   "id": "d3cc4498",
   "metadata": {},
   "outputs": [
    {
     "ename": "NameError",
     "evalue": "name 'np' is not defined",
     "output_type": "error",
     "traceback": [
      "\u001b[0;31m---------------------------------------------------------------------------\u001b[0m",
      "\u001b[0;31mNameError\u001b[0m                                 Traceback (most recent call last)",
      "Input \u001b[0;32mIn [1]\u001b[0m, in \u001b[0;36m<cell line: 1>\u001b[0;34m()\u001b[0m\n\u001b[0;32m----> 1\u001b[0m binning\u001b[38;5;241m=\u001b[39m\u001b[43mnp\u001b[49m\u001b[38;5;241m.\u001b[39mlinspace(\u001b[38;5;241m0\u001b[39m,\u001b[38;5;241m1000\u001b[39m,\u001b[38;5;241m50\u001b[39m)\n\u001b[1;32m      3\u001b[0m plt\u001b[38;5;241m.\u001b[39mfigure(figsize\u001b[38;5;241m=\u001b[39m(\u001b[38;5;241m10\u001b[39m,\u001b[38;5;241m8\u001b[39m))\n\u001b[1;32m      4\u001b[0m plt\u001b[38;5;241m.\u001b[39mhist(total_loss[\u001b[38;5;241m0\u001b[39m], bins\u001b[38;5;241m=\u001b[39mbinning, label\u001b[38;5;241m=\u001b[39m\u001b[38;5;124m\"\u001b[39m\u001b[38;5;124mBackground\u001b[39m\u001b[38;5;124m\"\u001b[39m, density \u001b[38;5;241m=\u001b[39m \u001b[38;5;28;01mTrue\u001b[39;00m, histtype\u001b[38;5;241m=\u001b[39m\u001b[38;5;124m'\u001b[39m\u001b[38;5;124mstep\u001b[39m\u001b[38;5;124m'\u001b[39m, fill\u001b[38;5;241m=\u001b[39m\u001b[38;5;28;01mFalse\u001b[39;00m, linewidth\u001b[38;5;241m=\u001b[39m\u001b[38;5;241m1.5\u001b[39m)\n",
      "\u001b[0;31mNameError\u001b[0m: name 'np' is not defined"
     ]
    }
   ],
   "source": [
    "binning=np.linspace(0,1000,50)\n",
    "\n",
    "plt.figure(figsize=(10,8))\n",
    "plt.hist(total_loss[0], bins=binning, label=\"Background\", density = True, histtype='step', fill=False, linewidth=1.5)\n",
    "for i, label in enumerate(signal_labels):\n",
    "    plt.hist(total_loss[i+1], bins=binning, label=label, density = True, histtype='step', fill=False, linewidth=1.5)\n",
    "plt.yscale('log')\n",
    "plt.xlabel(\"Autoencoder Loss\")\n",
    "plt.ylabel(\"Normalized entries\")\n",
    "plt.title('MSE loss')\n",
    "plt.legend(loc='best')\n",
    "plt.show()"
   ]
  },
  {
   "cell_type": "markdown",
   "id": "f5b0a603",
   "metadata": {},
   "source": [
    "## Let's now make a Receiver Operating Characteristic (ROC) curve"
   ]
  },
  {
   "cell_type": "code",
   "execution_count": null,
   "id": "4a9717c4",
   "metadata": {},
   "outputs": [],
   "source": [
    "from sklearn.metrics import roc_curve, auc"
   ]
  },
  {
   "cell_type": "code",
   "execution_count": null,
   "id": "fa113abd",
   "metadata": {},
   "outputs": [],
   "source": [
    "labels = np.concatenate([['Background'], np.array(signal_labels)])"
   ]
  },
  {
   "cell_type": "code",
   "execution_count": null,
   "id": "0d2af305",
   "metadata": {},
   "outputs": [],
   "source": [
    "target_background = np.zeros(total_loss[0].shape[0])\n",
    "\n",
    "plt.figure(figsize=(10,8))\n",
    "for i, label in enumerate(labels):\n",
    "    if i == 0: continue # background events\n",
    "    \n",
    "    trueVal = np.concatenate((np.ones(total_loss[i].shape[0]), target_background)) # anomaly=1, bkg=0\n",
    "    predVal_loss = np.concatenate((total_loss[i], total_loss[0]))\n",
    "\n",
    "    fpr_loss, tpr_loss, threshold_loss = roc_curve(trueVal, predVal_loss)\n",
    "\n",
    "    auc_loss = auc(fpr_loss, tpr_loss)\n",
    "    \n",
    "    plt.plot(fpr_loss, tpr_loss, \"-\", label='%s (auc = %.1f%%)'%(label,auc_loss*100.), linewidth=1.5)\n",
    "    \n",
    "    plt.semilogx()\n",
    "    plt.semilogy()\n",
    "    plt.ylabel(\"Signal efficiency\")\n",
    "    plt.xlabel(\"Background efficiency\")\n",
    "    plt.legend(loc='best')\n",
    "    plt.grid(True)\n",
    "    plt.tight_layout()\n",
    "plt.plot(np.linspace(0, 1),np.linspace(0, 1), '--', color='0.75')\n",
    "plt.axvline(0.00001, color='red', linestyle='dashed', linewidth=1) # threshold value for measuring anomaly detection efficiency\n",
    "plt.title(\"ROC AE\")\n",
    "plt.show()"
   ]
  },
  {
   "cell_type": "code",
   "execution_count": null,
   "id": "6a388dc2",
   "metadata": {},
   "outputs": [],
   "source": []
  }
 ],
 "metadata": {
  "kernelspec": {
   "display_name": "ATLAS ML training - BDT+DNN",
   "language": "python",
   "name": "atlas-ml-dnn-bdt-tutorial"
  },
  "language_info": {
   "codemirror_mode": {
    "name": "ipython",
    "version": 3
   },
   "file_extension": ".py",
   "mimetype": "text/x-python",
   "name": "python",
   "nbconvert_exporter": "python",
   "pygments_lexer": "ipython3",
   "version": "3.9.12"
  }
 },
 "nbformat": 4,
 "nbformat_minor": 5
}
