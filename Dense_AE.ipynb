{
 "cells": [
  {
   "cell_type": "code",
   "execution_count": 1,
   "id": "2eed194b",
   "metadata": {},
   "outputs": [],
   "source": [
    "#Choose the tensorflow-v2.2.0-gpu kernel from the dropdown menu!\n",
    "import numpy as np\n",
    "import h5py\n",
    "import math\n",
    "import os\n",
    "import pathlib\n",
    "import matplotlib.pyplot as plt\n",
    "import matplotlib\n",
    "%matplotlib inline\n",
    "import tensorflow as tf\n",
    "import tensorflow.keras as keras\n",
    "from tensorflow.keras.models import Model\n",
    "from tensorflow.keras.layers import Input, Dense, BatchNormalization, Activation, Layer, ReLU, LeakyReLU\n",
    "from tensorflow.keras import backend as K"
   ]
  },
  {
   "cell_type": "code",
   "execution_count": 2,
   "id": "a4bd0f16",
   "metadata": {},
   "outputs": [],
   "source": [
    "from func import load_model, save_model"
   ]
  },
  {
   "cell_type": "markdown",
   "id": "8b6ccfb7",
   "metadata": {},
   "source": [
    "## Load dataset"
   ]
  },
  {
   "cell_type": "code",
   "execution_count": 3,
   "id": "7b608318",
   "metadata": {},
   "outputs": [],
   "source": [
    "dataset_folder = '/global/cscratch1/sd/vmikuni/ADC/'\n",
    "#Be sure to run first\n",
    "# python create_datasets.py --bkg_file background_for_training.h5 --output_bkg_name 'BKG' --signals_files 'Ato4l_lepFilter_13TeV.h5' --output_signal_names 'Ato4l_lepFilter_13TeV' --events=1000000\n",
    "filename = 'BKG_dataset.h5'"
   ]
  },
  {
   "cell_type": "code",
   "execution_count": 4,
   "id": "d79760b7",
   "metadata": {},
   "outputs": [],
   "source": [
    "# make sure input data has correct input shape - background training data\n",
    "with h5py.File(dataset_folder+filename, 'r') as file:\n",
    "    X_train = np.array(file['X_train'])\n",
    "    X_test = np.array(file['X_test'])\n",
    "    X_val = np.array(file['X_val'])"
   ]
  },
  {
   "cell_type": "markdown",
   "id": "f008dda6",
   "metadata": {},
   "source": [
    "## Define Dense NN architecture"
   ]
  },
  {
   "cell_type": "code",
   "execution_count": 5,
   "id": "a58ba9a1",
   "metadata": {},
   "outputs": [],
   "source": [
    "input_shape = 57\n",
    "latent_dimension = 8\n",
    "num_nodes=[32,16]"
   ]
  },
  {
   "cell_type": "code",
   "execution_count": 6,
   "id": "061a29e8",
   "metadata": {},
   "outputs": [
    {
     "name": "stdout",
     "output_type": "stream",
     "text": [
      "Model: \"model\"\n",
      "_________________________________________________________________\n",
      "Layer (type)                 Output Shape              Param #   \n",
      "=================================================================\n",
      "input_1 (InputLayer)         [(None, 57)]              0         \n",
      "_________________________________________________________________\n",
      "dense (Dense)                (None, 32)                1824      \n",
      "_________________________________________________________________\n",
      "dense_1 (Dense)              (None, 16)                512       \n",
      "_________________________________________________________________\n",
      "dense_2 (Dense)              (None, 8)                 128       \n",
      "_________________________________________________________________\n",
      "dense_3 (Dense)              (None, 16)                128       \n",
      "_________________________________________________________________\n",
      "dense_4 (Dense)              (None, 32)                512       \n",
      "_________________________________________________________________\n",
      "dense_5 (Dense)              (None, 57)                1881      \n",
      "=================================================================\n",
      "Total params: 4,985\n",
      "Trainable params: 4,985\n",
      "Non-trainable params: 0\n",
      "_________________________________________________________________\n"
     ]
    }
   ],
   "source": [
    "#encoder\n",
    "inputArray = Input(shape=(input_shape))\n",
    "x = Dense(num_nodes[0], use_bias=False,activation='relu')(inputArray)\n",
    "x = Dense(num_nodes[1], use_bias=False,activation='relu')(x)\n",
    "encoder = Dense(latent_dimension, use_bias=False,activation='relu')(x)\n",
    "\n",
    "#decoder\n",
    "x = Dense(num_nodes[1], use_bias=False,activation='relu')(encoder)\n",
    "x = Dense(num_nodes[0], use_bias=False,activation='relu')(x)\n",
    "decoder = Dense(input_shape)(x)\n",
    "\n",
    "#create autoencoder\n",
    "autoencoder = Model(inputs = inputArray, outputs=decoder)\n",
    "autoencoder.summary()"
   ]
  },
  {
   "cell_type": "code",
   "execution_count": 7,
   "id": "327587d4",
   "metadata": {},
   "outputs": [],
   "source": [
    "autoencoder.compile(optimizer = keras.optimizers.Adam(), loss='mse')"
   ]
  },
  {
   "cell_type": "markdown",
   "id": "d180b383",
   "metadata": {},
   "source": [
    "## Train model"
   ]
  },
  {
   "cell_type": "code",
   "execution_count": 8,
   "id": "1ac10279",
   "metadata": {},
   "outputs": [],
   "source": [
    "EPOCHS = 50\n",
    "BATCH_SIZE = 10000"
   ]
  },
  {
   "cell_type": "code",
   "execution_count": 9,
   "id": "c3d9a1af",
   "metadata": {},
   "outputs": [
    {
     "name": "stdout",
     "output_type": "stream",
     "text": [
      "Epoch 1/50\n",
      "64/64 [==============================] - 0s 8ms/step - loss: 80.0956 - val_loss: 55.0567\n",
      "Epoch 2/50\n",
      "64/64 [==============================] - 0s 7ms/step - loss: 25.6005 - val_loss: 16.4118\n",
      "Epoch 3/50\n",
      "64/64 [==============================] - 0s 6ms/step - loss: 12.2759 - val_loss: 7.1446\n",
      "Epoch 4/50\n",
      "64/64 [==============================] - 0s 6ms/step - loss: 4.5828 - val_loss: 3.3102\n",
      "Epoch 5/50\n",
      "64/64 [==============================] - 0s 6ms/step - loss: 2.7169 - val_loss: 2.4828\n",
      "Epoch 6/50\n",
      "64/64 [==============================] - 0s 7ms/step - loss: 2.0406 - val_loss: 1.4195\n",
      "Epoch 7/50\n",
      "64/64 [==============================] - 0s 6ms/step - loss: 1.0003 - val_loss: 0.8963\n",
      "Epoch 8/50\n",
      "64/64 [==============================] - 0s 6ms/step - loss: 0.8157 - val_loss: 0.8345\n",
      "Epoch 9/50\n",
      "64/64 [==============================] - 0s 6ms/step - loss: 0.7743 - val_loss: 0.7996\n",
      "Epoch 10/50\n",
      "64/64 [==============================] - 0s 6ms/step - loss: 0.7421 - val_loss: 0.7687\n",
      "Epoch 11/50\n",
      "64/64 [==============================] - 0s 6ms/step - loss: 0.7061 - val_loss: 0.7107\n",
      "Epoch 12/50\n",
      "64/64 [==============================] - 0s 6ms/step - loss: 0.6510 - val_loss: 0.6366\n",
      "Epoch 13/50\n",
      "64/64 [==============================] - 0s 6ms/step - loss: 0.5686 - val_loss: 0.5279\n",
      "Epoch 14/50\n",
      "64/64 [==============================] - 0s 7ms/step - loss: 0.4735 - val_loss: 0.4505\n",
      "Epoch 15/50\n",
      "64/64 [==============================] - 0s 6ms/step - loss: 0.4255 - val_loss: 0.4233\n",
      "Epoch 16/50\n",
      "64/64 [==============================] - 0s 6ms/step - loss: 0.4067 - val_loss: 0.4133\n",
      "Epoch 17/50\n",
      "64/64 [==============================] - 0s 6ms/step - loss: 0.3969 - val_loss: 0.4033\n",
      "Epoch 18/50\n",
      "64/64 [==============================] - 0s 6ms/step - loss: 0.3895 - val_loss: 0.3982\n",
      "Epoch 19/50\n",
      "64/64 [==============================] - 0s 6ms/step - loss: 0.3849 - val_loss: 0.3943\n",
      "Epoch 20/50\n",
      "64/64 [==============================] - 0s 6ms/step - loss: 0.3806 - val_loss: 0.3903\n",
      "Epoch 21/50\n",
      "64/64 [==============================] - 0s 7ms/step - loss: 0.3764 - val_loss: 0.3889\n",
      "Epoch 22/50\n",
      "64/64 [==============================] - 0s 6ms/step - loss: 0.3729 - val_loss: 0.3823\n",
      "Epoch 23/50\n",
      "64/64 [==============================] - 0s 6ms/step - loss: 0.3680 - val_loss: 0.3794\n",
      "Epoch 24/50\n",
      "64/64 [==============================] - 0s 6ms/step - loss: 0.3636 - val_loss: 0.3736\n",
      "Epoch 25/50\n",
      "64/64 [==============================] - 0s 6ms/step - loss: 0.3598 - val_loss: 0.3694\n",
      "Epoch 26/50\n",
      "64/64 [==============================] - 0s 6ms/step - loss: 0.3548 - val_loss: 0.3649\n",
      "Epoch 27/50\n",
      "64/64 [==============================] - 0s 6ms/step - loss: 0.3500 - val_loss: 0.3611\n",
      "Epoch 28/50\n",
      "64/64 [==============================] - 0s 6ms/step - loss: 0.3455 - val_loss: 0.3548\n",
      "Epoch 29/50\n",
      "64/64 [==============================] - 0s 6ms/step - loss: 0.3402 - val_loss: 0.3525\n",
      "Epoch 30/50\n",
      "64/64 [==============================] - 0s 7ms/step - loss: 0.3340 - val_loss: 0.3428\n",
      "Epoch 31/50\n",
      "64/64 [==============================] - 0s 6ms/step - loss: 0.3282 - val_loss: 0.3367\n",
      "Epoch 32/50\n",
      "64/64 [==============================] - 0s 6ms/step - loss: 0.3223 - val_loss: 0.3314\n",
      "Epoch 33/50\n",
      "64/64 [==============================] - 0s 6ms/step - loss: 0.3176 - val_loss: 0.3263\n",
      "Epoch 34/50\n",
      "64/64 [==============================] - 0s 6ms/step - loss: 0.3129 - val_loss: 0.3221\n",
      "Epoch 35/50\n",
      "64/64 [==============================] - 0s 6ms/step - loss: 0.3090 - val_loss: 0.3192\n",
      "Epoch 36/50\n",
      "64/64 [==============================] - 0s 6ms/step - loss: 0.3061 - val_loss: 0.3161\n",
      "Epoch 37/50\n",
      "64/64 [==============================] - 0s 6ms/step - loss: 0.3039 - val_loss: 0.3142\n",
      "Epoch 38/50\n",
      "64/64 [==============================] - 0s 6ms/step - loss: 0.3015 - val_loss: 0.3122\n",
      "Epoch 39/50\n",
      "64/64 [==============================] - 0s 6ms/step - loss: 0.2998 - val_loss: 0.3098\n",
      "Epoch 40/50\n",
      "64/64 [==============================] - 0s 7ms/step - loss: 0.2978 - val_loss: 0.3070\n",
      "Epoch 41/50\n",
      "64/64 [==============================] - 0s 6ms/step - loss: 0.2966 - val_loss: 0.3082\n",
      "Epoch 42/50\n",
      "64/64 [==============================] - 0s 6ms/step - loss: 0.2953 - val_loss: 0.3050\n",
      "Epoch 43/50\n",
      "64/64 [==============================] - 0s 6ms/step - loss: 0.2934 - val_loss: 0.3045\n",
      "Epoch 44/50\n",
      "64/64 [==============================] - 0s 6ms/step - loss: 0.2931 - val_loss: 0.3070\n",
      "Epoch 45/50\n",
      "64/64 [==============================] - 0s 6ms/step - loss: 0.2926 - val_loss: 0.3024\n",
      "Epoch 46/50\n",
      "64/64 [==============================] - 0s 6ms/step - loss: 0.2901 - val_loss: 0.3020\n",
      "Epoch 47/50\n",
      "64/64 [==============================] - 0s 6ms/step - loss: 0.2893 - val_loss: 0.3045\n",
      "Epoch 48/50\n",
      "64/64 [==============================] - 0s 6ms/step - loss: 0.2889 - val_loss: 0.2985\n",
      "Epoch 49/50\n",
      "64/64 [==============================] - 0s 6ms/step - loss: 0.2875 - val_loss: 0.3024\n",
      "Epoch 50/50\n",
      "64/64 [==============================] - 0s 6ms/step - loss: 0.2862 - val_loss: 0.2966\n"
     ]
    }
   ],
   "source": [
    "history = autoencoder.fit(X_train, X_train, epochs = EPOCHS, batch_size = BATCH_SIZE,\n",
    "                  validation_data=(X_val, X_val))"
   ]
  },
  {
   "cell_type": "code",
   "execution_count": 10,
   "id": "5bfe2ffa",
   "metadata": {},
   "outputs": [],
   "source": [
    "model_name = 'DNN_AE'\n",
    "model_directory = 'DNNS/'\n",
    "if not os.path.exists(model_directory+model_name):\n",
    "    os.makedirs(model_directory+model_name)\n",
    "save_model(model_directory+model_name, autoencoder)"
   ]
  },
  {
   "cell_type": "markdown",
   "id": "39a53a30",
   "metadata": {},
   "source": [
    "## Prediction - background"
   ]
  },
  {
   "cell_type": "code",
   "execution_count": 24,
   "id": "3ef08cfd",
   "metadata": {},
   "outputs": [],
   "source": [
    "bkg_prediction = autoencoder.predict(X_test)"
   ]
  },
  {
   "cell_type": "markdown",
   "id": "25666d64",
   "metadata": {},
   "source": [
    "## Prediction - signals"
   ]
  },
  {
   "cell_type": "code",
   "execution_count": 25,
   "id": "1cb44bcc",
   "metadata": {},
   "outputs": [],
   "source": [
    "# add correct signal labels: defined within the h5 file created by the data processing script\n",
    "signal_labels = ['A to 4 leptons',\n",
    "                 'h to tau tau',\n",
    "                 'leptoquark',\n",
    "                 'charged h to tau nu']"
   ]
  },
  {
   "cell_type": "code",
   "execution_count": 26,
   "id": "4a9f5c94",
   "metadata": {},
   "outputs": [],
   "source": [
    "# add correct path to signal files\n",
    "signals_file = ['Ato4l_lepFilter_13TeV_dataset.h5',\n",
    "                'hToTauTau_13TeV_PU20_dataset.h5',\n",
    "                'leptoquark_LOWMASS_lepFilter_13TeV_dataset.h5',\n",
    "                'hChToTauNu_13TeV_PU20_dataset.h5']"
   ]
  },
  {
   "cell_type": "code",
   "execution_count": 27,
   "id": "84c463c9",
   "metadata": {},
   "outputs": [],
   "source": [
    "# read signal data\n",
    "signal_data = []\n",
    "for i, label in enumerate(signal_labels):\n",
    "    with h5py.File(dataset_folder+signals_file[i], 'r') as file:\n",
    "        test_data = np.array(file['Data'])\n",
    "    signal_data.append(test_data)"
   ]
  },
  {
   "cell_type": "code",
   "execution_count": 28,
   "id": "74a4e664",
   "metadata": {},
   "outputs": [],
   "source": [
    "signal_results = []\n",
    "\n",
    "for i, label in enumerate(signal_labels):\n",
    "    signal_prediction = autoencoder.predict(signal_data[i])\n",
    "    signal_results.append([label, signal_data[i], signal_prediction]) # save [label, true, prediction] for signal"
   ]
  },
  {
   "cell_type": "markdown",
   "id": "c71078e8",
   "metadata": {},
   "source": [
    "## Save results"
   ]
  },
  {
   "cell_type": "code",
   "execution_count": 29,
   "id": "5db33fa3",
   "metadata": {},
   "outputs": [],
   "source": [
    "save_file = 'dnn_results'"
   ]
  },
  {
   "cell_type": "code",
   "execution_count": 30,
   "id": "63cd5a03",
   "metadata": {},
   "outputs": [],
   "source": [
    "with h5py.File(save_file, 'w') as file:\n",
    "    file.create_dataset('BKG_input', data=X_test)\n",
    "    file.create_dataset('BKG_predicted', data = bkg_prediction)\n",
    "    for i, sig in enumerate(signal_results):\n",
    "        file.create_dataset('%s_input' %sig[0], data=sig[1])\n",
    "        file.create_dataset('%s_predicted' %sig[0], data=sig[2])"
   ]
  },
  {
   "cell_type": "markdown",
   "id": "02762ad2",
   "metadata": {},
   "source": [
    "## Evaluate results\n",
    "\n",
    "1. Plot loss distribution after prediction (check loss value for signals)\n",
    "2. Plot ROC curves - how good is anomaly detection for chosen FPR threshold"
   ]
  },
  {
   "cell_type": "markdown",
   "id": "44d5421a",
   "metadata": {},
   "source": [
    "# 1."
   ]
  },
  {
   "cell_type": "code",
   "execution_count": 31,
   "id": "71bf3eb5",
   "metadata": {},
   "outputs": [],
   "source": [
    "from func import mse_loss"
   ]
  },
  {
   "cell_type": "code",
   "execution_count": 32,
   "id": "4e2ced7a",
   "metadata": {},
   "outputs": [],
   "source": [
    "# compute loss value (true, predicted)\n",
    "total_loss = []\n",
    "total_loss.append(mse_loss(X_test, bkg_prediction))\n",
    "for i, signal_X in enumerate(signal_data):\n",
    "    total_loss.append(mse_loss(signal_X, signal_results[i][2]))"
   ]
  },
  {
   "cell_type": "code",
   "execution_count": 33,
   "id": "d3cc4498",
   "metadata": {},
   "outputs": [
    {
     "data": {
      "image/png": "[encoded data removed]",
      "text/plain": [
       "<Figure size 720x576 with 1 Axes>"
      ]
     },
     "metadata": {
      "needs_background": "light"
     },
     "output_type": "display_data"
    }
   ],
   "source": [
    "bin_size=30\n",
    "\n",
    "plt.figure(figsize=(10,8))\n",
    "plt.hist(total_loss[0], bins=bin_size, label=\"Background\", density = True, histtype='step', fill=False, linewidth=1.5)\n",
    "for i, label in enumerate(signal_labels):\n",
    "    plt.hist(total_loss[i+1], bins=bin_size, label=label, density = True, histtype='step', fill=False, linewidth=1.5)\n",
    "plt.yscale('log')\n",
    "plt.xlabel(\"Autoencoder Loss\")\n",
    "plt.ylabel(\"Probability (a.u.)\")\n",
    "plt.title('MSE loss')\n",
    "plt.legend(loc='best')\n",
    "plt.show()"
   ]
  },
  {
   "cell_type": "markdown",
   "id": "f5b0a603",
   "metadata": {},
   "source": [
    "# 2."
   ]
  },
  {
   "cell_type": "code",
   "execution_count": 34,
   "id": "4a9717c4",
   "metadata": {},
   "outputs": [],
   "source": [
    "from sklearn.metrics import roc_curve, auc"
   ]
  },
  {
   "cell_type": "code",
   "execution_count": 35,
   "id": "fa113abd",
   "metadata": {},
   "outputs": [],
   "source": [
    "labels = np.concatenate([['Background'], np.array(signal_labels)])"
   ]
  },
  {
   "cell_type": "code",
   "execution_count": 36,
   "id": "0d2af305",
   "metadata": {},
   "outputs": [
    {
     "data": {
      "image/png": "[encoded data removed]",
      "text/plain": [
       "<Figure size 720x576 with 1 Axes>"
      ]
     },
     "metadata": {
      "needs_background": "light"
     },
     "output_type": "display_data"
    }
   ],
   "source": [
    "target_background = np.zeros(total_loss[0].shape[0])\n",
    "\n",
    "plt.figure(figsize=(10,8))\n",
    "for i, label in enumerate(labels):\n",
    "    if i == 0: continue # background events\n",
    "    \n",
    "    trueVal = np.concatenate((np.ones(total_loss[i].shape[0]), target_background)) # anomaly=1, bkg=0\n",
    "    predVal_loss = np.concatenate((total_loss[i], total_loss[0]))\n",
    "\n",
    "    fpr_loss, tpr_loss, threshold_loss = roc_curve(trueVal, predVal_loss)\n",
    "\n",
    "    auc_loss = auc(fpr_loss, tpr_loss)\n",
    "    \n",
    "    plt.plot(fpr_loss, tpr_loss, \"-\", label='%s (auc = %.1f%%)'%(label,auc_loss*100.), linewidth=1.5)\n",
    "    \n",
    "    plt.semilogx()\n",
    "    plt.semilogy()\n",
    "    plt.ylabel(\"True Positive Rate\")\n",
    "    plt.xlabel(\"False Positive Rate\")\n",
    "    plt.legend(loc='center right')\n",
    "    plt.grid(True)\n",
    "    plt.tight_layout()\n",
    "plt.plot(np.linspace(0, 1),np.linspace(0, 1), '--', color='0.75')\n",
    "plt.axvline(0.00001, color='red', linestyle='dashed', linewidth=1) # threshold value for measuring anomaly detection efficiency\n",
    "plt.title(\"ROC AE\")\n",
    "plt.show()"
   ]
  },
  {
   "cell_type": "code",
   "execution_count": null,
   "id": "6a388dc2",
   "metadata": {},
   "outputs": [],
   "source": []
  }
 ],
 "metadata": {
  "kernelspec": {
   "display_name": "tensorflow-v2.2.0-gpu",
   "language": "python",
   "name": "tensorflow_gpu_2.2.0-py37"
  },
  "language_info": {
   "codemirror_mode": {
    "name": "ipython",
    "version": 3
   },
   "file_extension": ".py",
   "mimetype": "text/x-python",
   "name": "python",
   "nbconvert_exporter": "python",
   "pygments_lexer": "ipython3",
   "version": "3.7.4"
  }
 },
 "nbformat": 4,
 "nbformat_minor": 5
}
