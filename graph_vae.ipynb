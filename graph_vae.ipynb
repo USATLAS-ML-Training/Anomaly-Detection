{
 "cells": [
  {
   "cell_type": "markdown",
   "metadata": {},
   "source": [
    "# Graph Models\n",
    "\n",
    "***\n",
    "2 model types:\n",
    "- graph autoencoder\n",
    "- graph variational autoencoder\n",
    "\n",
    "4 steps:\n",
    "- model class definitions\n",
    "- input data loading and processing\n",
    "- training\n",
    "- inference\n",
    "\n",
    "***\n",
    "\n",
    "layers adapted from [Kipf et al.](https://arxiv.org/abs/1609.02907)  \n",
    "author: Kinga Anna Wozniak  \n",
    "\n",
    "note: graph variational autoenoder takes input as multiple of batch size (train and validation set)"
   ]
  },
  {
   "cell_type": "code",
   "execution_count": 1,
   "metadata": {},
   "outputs": [],
   "source": [
    "import tensorflow as tf\n",
    "import numpy as np\n",
    "import h5py\n",
    "import matplotlib.pyplot as plt"
   ]
  },
  {
   "cell_type": "code",
   "execution_count": 2,
   "metadata": {},
   "outputs": [],
   "source": [
    "%load_ext autoreload\n",
    "%autoreload 2"
   ]
  },
  {
   "cell_type": "markdown",
   "metadata": {},
   "source": [
    "# data preprocessing"
   ]
  },
  {
   "cell_type": "code",
   "execution_count": 3,
   "metadata": {},
   "outputs": [],
   "source": [
    "def normalize_features(particles):\n",
    "    idx_pt, idx_eta, idx_phi, idx_class = range(4)\n",
    "    # min-max normalize pt\n",
    "    particles[:,:,idx_pt] = (particles[:,:,idx_pt] - np.min(particles[:,:,idx_pt])) / (np.max(particles[:,:,idx_pt])-np.min(particles[:,:,idx_pt]))\n",
    "    # standard normalize angles\n",
    "    particles[:,:,idx_eta] = (particles[:,:,idx_eta] - np.mean(particles[:,:,idx_eta]))/np.std(particles[:,:,idx_eta])\n",
    "    particles[:,:,idx_eta] = (particles[:,:,idx_eta] - np.mean(particles[:,:,idx_phi]))/np.std(particles[:,:,idx_phi])\n",
    "    # min-max normalize class label\n",
    "    particles[:,:,idx_class] = (particles[:,:,idx_class] - np.min(particles[:,:,idx_class])) / (np.max(particles[:,:,idx_class])-np.min(particles[:,:,idx_class]))\n",
    "    return particles"
   ]
  },
  {
   "cell_type": "code",
   "execution_count": 4,
   "metadata": {},
   "outputs": [],
   "source": [
    "def normalized_adjacency(A):\n",
    "    D = np.array(np.sum(A, axis=2), dtype=np.float32) # compute outdegree (= rowsum)\n",
    "    D = np.nan_to_num(np.power(D,-0.5), posinf=0, neginf=0) # normalize (**-(1/2))\n",
    "    D = np.asarray([np.diagflat(dd) for dd in D]) # and diagonalize\n",
    "    return np.matmul(D, np.matmul(A, D))"
   ]
  },
  {
   "cell_type": "code",
   "execution_count": 5,
   "metadata": {},
   "outputs": [],
   "source": [
    "def make_adjacencies(particles):\n",
    "    real_p_mask = particles[:,:,0] > 0 # construct mask for real particles\n",
    "    adjacencies = (real_p_mask[:,:,np.newaxis] * real_p_mask[:,np.newaxis,:]).astype('float32')\n",
    "    return adjacencies"
   ]
  },
  {
   "cell_type": "markdown",
   "metadata": {},
   "source": [
    "# model classes"
   ]
  },
  {
   "cell_type": "markdown",
   "metadata": {},
   "source": [
    "## loss"
   ]
  },
  {
   "cell_type": "code",
   "execution_count": 13,
   "metadata": {},
   "outputs": [],
   "source": [
    "### Latent Space Loss (KL-Divergence)\n",
    "@tf.function\n",
    "def kl_loss(z_mean, z_log_var):\n",
    "    kl = 1. + z_log_var - tf.square(z_mean) - tf.exp(z_log_var)\n",
    "    return -0.5 * tf.reduce_mean(kl, axis=-1) # multiplying mse by N -> using sum (instead of mean) in kl loss"
   ]
  },
  {
   "cell_type": "markdown",
   "metadata": {},
   "source": [
    "## layers"
   ]
  },
  {
   "cell_type": "code",
   "execution_count": 25,
   "metadata": {},
   "outputs": [],
   "source": [
    "''' GC layers adapted from Kipf: https://github.com/tkipf/gae/blob/0ebbe9b9a8f496eb12deb9aa6a62e7016b5a5ac3/gae/layers.py '''\n",
    "\n",
    "class GraphConvolution(tf.keras.layers.Layer):\n",
    "    \n",
    "    ''' basic graph convolution layer performing act(AXW) '''\n",
    "    \n",
    "    def __init__(self, output_sz, activation=tf.keras.activations.linear, **kwargs):\n",
    "        super(GraphConvolution, self).__init__(**kwargs)\n",
    "        self.output_sz = output_sz\n",
    "        self.activation = activation\n",
    "\n",
    "    def build(self, input_shape):\n",
    "        self.kernel = self.add_weight(\"kernel\", shape=[int(input_shape[-1]), self.output_sz], initializer=tf.keras.initializers.GlorotUniform())\n",
    "\n",
    "\n",
    "    def call(self, inputs, adjacency):\n",
    "        x = tf.matmul(inputs, self.kernel)\n",
    "        x = tf.matmul(adjacency, x)\n",
    "        return self.activation(x)\n",
    "\n",
    "    def get_config(self):\n",
    "        config = super(GraphConvolution, self).get_config()\n",
    "        config.update({'output_sz': self.output_sz, 'activation': self.activation})\n",
    "        return config\n",
    "\n",
    "\n",
    "class InnerProductDecoder(tf.keras.layers.Layer):\n",
    "\n",
    "    ''' inner product decoder reconstructing adjacency matrix as act(z^T z) \n",
    "        input assumed of shape [batch_sz x n_nodes x z_d]\n",
    "        where \n",
    "            batch_sz can be 1 for single example feeding\n",
    "            n_nodes ... number of nodes in graph\n",
    "            z_d ... dimensionality of latent space\n",
    "    '''\n",
    "\n",
    "    def __init__(self, activation=tf.keras.activations.linear, **kwargs):\n",
    "        super(InnerProductDecoder, self).__init__(**kwargs)\n",
    "        self.activation = activation\n",
    "\n",
    "    def call(self, inputs):\n",
    "        perm = [0, 2, 1] if len(inputs.shape) == 3 else [1, 0]\n",
    "        z_t = tf.transpose(inputs, perm=perm)\n",
    "        adjacency_hat = tf.matmul(inputs, z_t)\n",
    "        return self.activation(adjacency_hat)\n",
    "\n",
    "\n",
    "    def get_config(self):\n",
    "        config = super(InnerProductDecoder, self).get_config()\n",
    "        return config\n"
   ]
  },
  {
   "cell_type": "markdown",
   "metadata": {},
   "source": [
    "## graph autoencoder"
   ]
  },
  {
   "cell_type": "code",
   "execution_count": 27,
   "metadata": {},
   "outputs": [],
   "source": [
    "class GraphAutoencoder(tf.keras.Model):\n",
    "\n",
    "    def __init__(self, nodes_n, feat_sz, activation=tf.nn.tanh, **kwargs):\n",
    "        super(GraphAutoencoder, self).__init__(**kwargs)\n",
    "        self.nodes_n = nodes_n\n",
    "        self.feat_sz = feat_sz\n",
    "        self.input_shape_feat = [self.nodes_n, self.feat_sz]\n",
    "        self.input_shape_adj = [self.nodes_n, self.nodes_n]\n",
    "        self.activation = activation\n",
    "        self.loss_fn = tf.nn.weighted_cross_entropy_with_logits\n",
    "        self.encoder = self.build_encoder()\n",
    "        self.decoder = InnerProductDecoder(activation=tf.keras.activations.linear) # if activation sigmoid -> return probabilities from logits\n",
    "\n",
    "\n",
    "    def build_encoder(self):\n",
    "        ''' reduce feat_sz to 2 '''\n",
    "        inputs_feat = tf.keras.layers.Input(shape=self.input_shape_feat, dtype=tf.float32, name='encoder_input_features')\n",
    "        inputs_adj = tf.keras.layers.Input(shape=self.input_shape_adj, dtype=tf.float32, name='encoder_input_adjacency')\n",
    "        x = inputs_feat\n",
    "        #feat_sz-1 layers needed to reduce to R^2 \n",
    "        for output_sz in reversed(range(2, self.feat_sz)):\n",
    "            x = GraphConvolution(output_sz=output_sz, activation=self.activation)(x, inputs_adj)\n",
    "        x = GraphConvolution(output_sz=1, activation=tf.keras.activations.linear)(x, inputs_adj)\n",
    "        encoder = tf.keras.Model(inputs=(inputs_feat, inputs_adj), outputs=x)\n",
    "        encoder.summary()\n",
    "        return encoder\n",
    "\n",
    "\n",
    "    def call(self, inputs):\n",
    "        z = self.encoder(inputs)\n",
    "        adj_pred = self.decoder(z)\n",
    "        return z, adj_pred\n",
    "\n",
    "    def train_step(self, data):\n",
    "        (X, adj_tilde), adj_orig = data\n",
    "        # pos_weight = zero-adj / one-adj -> no-edge vs edge ratio\n",
    "        pos_weight = tf.cast(adj_orig.shape[1] * adj_orig.shape[2] - tf.math.reduce_sum(adj_orig), tf.float32) / tf.cast(tf.math.reduce_sum(adj_orig), tf.float32)\n",
    "\n",
    "        with tf.GradientTape() as tape:\n",
    "            z, adj_pred = self((X, adj_tilde))  # Forward pass\n",
    "            # Compute the loss value (binary cross entropy for a_ij in {0,1})\n",
    "            loss = self.loss_fn(labels=adj_orig, logits=adj_pred, pos_weight=pos_weight)\n",
    "\n",
    "        # Compute gradients\n",
    "        trainable_vars = self.trainable_variables\n",
    "        gradients = tape.gradient(loss, trainable_vars)\n",
    "        # Update weights\n",
    "        self.optimizer.apply_gradients(zip(gradients, trainable_vars))\n",
    "        # Return a dict mapping metric names to current value\n",
    "        return {m.name: m.result() for m in self.metrics}\n",
    "\n",
    "\n",
    "    def test_step(self, data):\n",
    "        (X, adj_tilde), adj_orig = data\n",
    "        pos_weight = tf.cast(adj_orig.shape[1] * adj_orig.shape[2] - tf.math.reduce_sum(adj_orig), tf.float32) / tf.cast(tf.math.reduce_sum(adj_orig), tf.float32)\n",
    "\n",
    "        z, adj_pred = self((X, adj_tilde), training=False)  # Forward pass\n",
    "        loss = tf.math.reduce_mean(self.loss_fn(labels=adj_orig, logits=adj_pred, pos_weight=pos_weight)) # TODO: add regularization\n",
    "        \n",
    "        return {'loss' : loss}\n"
   ]
  },
  {
   "cell_type": "markdown",
   "metadata": {},
   "source": [
    "## variational graph autoencoder"
   ]
  },
  {
   "cell_type": "code",
   "execution_count": 74,
   "metadata": {},
   "outputs": [],
   "source": [
    "class GraphVariationalAutoencoder(GraphAutoencoder):\n",
    "    \n",
    "    def __init__(self, nodes_n, feat_sz, activation, **kwargs):\n",
    "        super(GraphVariationalAutoencoder, self).__init__(nodes_n, feat_sz, activation, **kwargs)\n",
    "        self.loss_fn_latent = kl_loss\n",
    "\n",
    "    def build_encoder(self):\n",
    "\n",
    "        ''' reduce feat_sz to 2 '''\n",
    "        inputs_feat = tf.keras.layers.Input(shape=self.input_shape_feat, dtype=tf.float32, name='encoder_input_features')\n",
    "        inputs_adj = tf.keras.layers.Input(shape=self.input_shape_adj, dtype=tf.float32, name='encoder_input_adjacency')\n",
    "        x = inputs_feat\n",
    "\n",
    "        for output_sz in reversed(range(2, self.feat_sz)):\n",
    "            x = GraphConvolution(output_sz=output_sz, activation=self.activation)(x, inputs_adj)\n",
    "\n",
    "        ''' make latent space params mu and sigma in last compression to feat_sz = 1 '''\n",
    "        self.z_mean = GraphConvolution(output_sz=1, activation=tf.keras.activations.linear)(x, inputs_adj)\n",
    "        self.z_log_var = GraphConvolution(output_sz=1, activation=tf.keras.activations.linear)(x, inputs_adj)\n",
    "\n",
    "        epsilon = tf.keras.backend.random_normal(shape=(tf.shape(self.z_mean)[0], self.nodes_n, 1))\n",
    "        self.z = self.z_mean +  epsilon * tf.exp(0.5 * self.z_log_var)\n",
    "\n",
    "        return tf.keras.Model(inputs=(inputs_feat, inputs_adj), outputs=[self.z, self.z_mean, self.z_log_var])\n",
    "    \n",
    "    \n",
    "    def call(self, inputs):\n",
    "        z, z_mean, z_log_var = self.encoder(inputs)\n",
    "        adj_pred = self.decoder(z)\n",
    "        return z, z_mean, z_log_var, adj_pred\n",
    "    \n",
    "    def train_step(self, data):\n",
    "        (X, adj_tilde), adj_orig = data\n",
    "        pos_weight = tf.cast(adj_orig.shape[1] * adj_orig.shape[2] - tf.math.reduce_sum(adj_orig), tf.float32) / tf.cast(tf.math.reduce_sum(adj_orig), tf.float32)\n",
    "\n",
    "\n",
    "        with tf.GradientTape() as tape:\n",
    "            z, z_mean, z_log_var, adj_pred = self((X, adj_tilde))  # Forward pass\n",
    "            # Compute the loss value (binary cross entropy for a_ij in {0,1})\n",
    "            loss_reco = tf.math.reduce_mean(self.loss_fn(labels=adj_orig, logits=adj_pred, pos_weight=pos_weight), axis=(1,2)) # TODO: add regularization\n",
    "            loss_latent = tf.math.reduce_mean(self.loss_fn_latent(z_mean, z_log_var), axis=1)\n",
    "            loss = loss_reco + loss_latent\n",
    "\n",
    "        # Compute gradients\n",
    "        trainable_vars = self.trainable_variables\n",
    "        gradients = tape.gradient(loss, trainable_vars)\n",
    "        # Update weights\n",
    "        self.optimizer.apply_gradients(zip(gradients, trainable_vars))\n",
    "        # Return a dict mapping metric names to current value\n",
    "        return {'loss' : loss_reco+loss_latent, 'loss_reco': loss_reco, 'loss_latent': loss_latent}\n",
    "\n",
    "\n",
    "    def test_step(self, data):\n",
    "        (X, adj_tilde), adj_orig = data\n",
    "        pos_weight = tf.cast(adj_orig.shape[1] * adj_orig.shape[2] - tf.math.reduce_sum(adj_orig), tf.float32) / tf.cast(tf.math.reduce_sum(adj_orig), tf.float32)\n",
    "\n",
    "        z, z_mean, z_log_var, adj_pred = self((X, adj_tilde))  # Forward pass\n",
    "        # Compute the loss value (binary cross entropy for a_ij in {0,1})\n",
    "        loss_reco =  tf.math.reduce_mean(self.loss_fn(labels=adj_orig, logits=adj_pred, pos_weight=pos_weight)) # TODO: add regularization\n",
    "        loss_latent = tf.math.reduce_mean(self.loss_fn_latent(z_mean, z_log_var))\n",
    "        \n",
    "        return {'loss' : loss_reco+loss_latent, 'loss_reco': loss_reco, 'loss_latent': loss_latent}"
   ]
  },
  {
   "cell_type": "markdown",
   "metadata": {},
   "source": [
    "# load data"
   ]
  },
  {
   "cell_type": "code",
   "execution_count": 16,
   "metadata": {},
   "outputs": [],
   "source": [
    "# set the correct background filename\n",
    "filename = 'background.h5'\n",
    "ff = h5py.File(filename, 'r')\n",
    "particles = np.asarray(ff.get('Particles'))"
   ]
  },
  {
   "cell_type": "code",
   "execution_count": 17,
   "metadata": {},
   "outputs": [
    {
     "data": {
      "text/plain": [
       "(500000, 19, 4)"
      ]
     },
     "execution_count": 17,
     "metadata": {},
     "output_type": "execute_result"
    }
   ],
   "source": [
    "particles.shape"
   ]
  },
  {
   "cell_type": "code",
   "execution_count": 18,
   "metadata": {},
   "outputs": [],
   "source": [
    "nodes_n = particles.shape[1]\n",
    "feat_sz = particles.shape[2]"
   ]
  },
  {
   "cell_type": "code",
   "execution_count": 49,
   "metadata": {},
   "outputs": [],
   "source": [
    "# features: array([b'Pt', b'Eta', b'Phi', b'Class'], dtype='|S5')\n",
    "batch_size = 128\n",
    "particles_train = particles[:batch_size*20]"
   ]
  },
  {
   "cell_type": "code",
   "execution_count": 50,
   "metadata": {
    "collapsed": true
   },
   "outputs": [
    {
     "name": "stderr",
     "output_type": "stream",
     "text": [
      "/home/kinga/.local/lib/python3.6/site-packages/ipykernel_launcher.py:3: RuntimeWarning: divide by zero encountered in power\n",
      "  This is separate from the ipykernel package so we can avoid doing imports until\n"
     ]
    }
   ],
   "source": [
    "A = make_adjacencies(particles_train)\n",
    "A_tilde = normalized_adjacency(A)"
   ]
  },
  {
   "cell_type": "code",
   "execution_count": 51,
   "metadata": {},
   "outputs": [
    {
     "data": {
      "text/plain": [
       "Text(0.5, 1.0, 'pt')"
      ]
     },
     "execution_count": 51,
     "metadata": {},
     "output_type": "execute_result"
    },
    {
     "data": {
      "image/png": "[encoded data removed]",
      "text/plain": [
       "<Figure size 432x288 with 1 Axes>"
      ]
     },
     "metadata": {
      "needs_background": "light"
     },
     "output_type": "display_data"
    }
   ],
   "source": [
    "plt.hist(particles_train[:,:,0].flatten())\n",
    "plt.yscale('log')\n",
    "plt.title('pt')"
   ]
  },
  {
   "cell_type": "code",
   "execution_count": 52,
   "metadata": {},
   "outputs": [],
   "source": [
    "particles_train = normalize_features(particles_train)"
   ]
  },
  {
   "cell_type": "code",
   "execution_count": 53,
   "metadata": {},
   "outputs": [
    {
     "data": {
      "text/plain": [
       "Text(0.5, 1.0, 'normalized pt')"
      ]
     },
     "execution_count": 53,
     "metadata": {},
     "output_type": "execute_result"
    },
    {
     "data": {
      "image/png": "[encoded data removed]",
      "text/plain": [
       "<Figure size 432x288 with 1 Axes>"
      ]
     },
     "metadata": {
      "needs_background": "light"
     },
     "output_type": "display_data"
    }
   ],
   "source": [
    "plt.hist(particles_train[:,:,0].flatten())\n",
    "plt.yscale('log')\n",
    "plt.title('normalized pt')"
   ]
  },
  {
   "cell_type": "markdown",
   "metadata": {},
   "source": [
    "# build model: Autoencoder"
   ]
  },
  {
   "cell_type": "code",
   "execution_count": 54,
   "metadata": {},
   "outputs": [
    {
     "name": "stdout",
     "output_type": "stream",
     "text": [
      "Model: \"functional_5\"\n",
      "__________________________________________________________________________________________________\n",
      "Layer (type)                    Output Shape         Param #     Connected to                     \n",
      "==================================================================================================\n",
      "encoder_input_features (InputLa [(None, 19, 4)]      0                                            \n",
      "__________________________________________________________________________________________________\n",
      "encoder_input_adjacency (InputL [(None, 19, 19)]     0                                            \n",
      "__________________________________________________________________________________________________\n",
      "graph_convolution_7 (GraphConvo (None, 19, 3)        12          encoder_input_features[0][0]     \n",
      "                                                                 encoder_input_adjacency[0][0]    \n",
      "__________________________________________________________________________________________________\n",
      "graph_convolution_8 (GraphConvo (None, 19, 2)        6           graph_convolution_7[0][0]        \n",
      "                                                                 encoder_input_adjacency[0][0]    \n",
      "__________________________________________________________________________________________________\n",
      "graph_convolution_9 (GraphConvo (None, 19, 1)        2           graph_convolution_8[0][0]        \n",
      "                                                                 encoder_input_adjacency[0][0]    \n",
      "==================================================================================================\n",
      "Total params: 20\n",
      "Trainable params: 20\n",
      "Non-trainable params: 0\n",
      "__________________________________________________________________________________________________\n"
     ]
    }
   ],
   "source": [
    "gnn = GraphAutoencoder(nodes_n=nodes_n, feat_sz=feat_sz, activation=tf.nn.tanh)\n",
    "gnn.compile(optimizer=tf.keras.optimizers.Adam(learning_rate=0.01), run_eagerly=True)"
   ]
  },
  {
   "cell_type": "markdown",
   "metadata": {},
   "source": [
    "# train model"
   ]
  },
  {
   "cell_type": "code",
   "execution_count": 55,
   "metadata": {},
   "outputs": [
    {
     "name": "stdout",
     "output_type": "stream",
     "text": [
      "Epoch 1/100\n",
      "15/15 [==============================] - 0s 15ms/step - val_loss: 0.6739\n",
      "Epoch 2/100\n",
      "15/15 [==============================] - 0s 13ms/step - val_loss: 0.6739\n",
      "Epoch 3/100\n",
      "15/15 [==============================] - 0s 13ms/step - val_loss: 0.6738\n",
      "Epoch 4/100\n",
      "15/15 [==============================] - 0s 14ms/step - val_loss: 0.6738\n",
      "Epoch 5/100\n",
      "15/15 [==============================] - 0s 13ms/step - val_loss: 0.6738\n",
      "Epoch 6/100\n",
      "15/15 [==============================] - 0s 14ms/step - val_loss: 0.6738\n",
      "Epoch 7/100\n",
      "15/15 [==============================] - 0s 13ms/step - val_loss: 0.6738\n",
      "Epoch 8/100\n",
      "15/15 [==============================] - 0s 13ms/step - val_loss: 0.6738\n",
      "Epoch 9/100\n",
      "14/15 [===========================>..] - ETA: 0s\n",
      "Epoch 00009: ReduceLROnPlateau reducing learning rate to 0.004999999888241291.\n",
      "15/15 [==============================] - 0s 14ms/step - val_loss: 0.6738\n",
      "Epoch 10/100\n",
      "15/15 [==============================] - 0s 25ms/step - val_loss: 0.6738\n",
      "Epoch 11/100\n",
      "15/15 [==============================] - 0s 14ms/step - val_loss: 0.6738\n",
      "Epoch 12/100\n",
      "15/15 [==============================] - 0s 15ms/step - val_loss: 0.6738\n",
      "Epoch 13/100\n",
      "15/15 [==============================] - 0s 25ms/step - val_loss: 0.6738\n",
      "Epoch 14/100\n",
      "13/15 [=========================>....] - ETA: 0s\n",
      "Epoch 00014: ReduceLROnPlateau reducing learning rate to 0.0024999999441206455.\n",
      "15/15 [==============================] - 0s 17ms/step - val_loss: 0.6738\n",
      "Epoch 15/100\n",
      "15/15 [==============================] - 0s 21ms/step - val_loss: 0.6738\n",
      "Epoch 16/100\n",
      "15/15 [==============================] - 0s 23ms/step - val_loss: 0.6738\n",
      "Epoch 17/100\n",
      "15/15 [==============================] - 0s 15ms/step - val_loss: 0.6738\n",
      "Epoch 18/100\n",
      "15/15 [==============================] - 0s 14ms/step - val_loss: 0.6738\n",
      "Epoch 19/100\n",
      "11/15 [=====================>........] - ETA: 0s\n",
      "Epoch 00019: ReduceLROnPlateau reducing learning rate to 0.0012499999720603228.\n",
      "15/15 [==============================] - 0s 13ms/step - val_loss: 0.6738\n",
      "Epoch 20/100\n",
      "15/15 [==============================] - 0s 15ms/step - val_loss: 0.6738\n",
      "Epoch 21/100\n",
      "15/15 [==============================] - 0s 13ms/step - val_loss: 0.6738\n",
      "Epoch 22/100\n",
      "15/15 [==============================] - 0s 15ms/step - val_loss: 0.6738\n",
      "Epoch 23/100\n",
      "15/15 [==============================] - 0s 14ms/step - val_loss: 0.6738\n",
      "Epoch 24/100\n",
      "13/15 [=========================>....] - ETA: 0s\n",
      "Epoch 00024: ReduceLROnPlateau reducing learning rate to 0.0006249999860301614.\n",
      "15/15 [==============================] - 0s 14ms/step - val_loss: 0.6738\n",
      "Epoch 25/100\n",
      "15/15 [==============================] - 0s 14ms/step - val_loss: 0.6738\n",
      "Epoch 26/100\n",
      "15/15 [==============================] - 0s 13ms/step - val_loss: 0.6738\n",
      "Epoch 27/100\n",
      "15/15 [==============================] - 0s 14ms/step - val_loss: 0.6738\n",
      "Epoch 28/100\n",
      "15/15 [==============================] - 0s 13ms/step - val_loss: 0.6738\n",
      "Epoch 29/100\n",
      "15/15 [==============================] - ETA: 0s\n",
      "Epoch 00029: ReduceLROnPlateau reducing learning rate to 0.0003124999930150807.\n",
      "15/15 [==============================] - 0s 15ms/step - val_loss: 0.6738\n",
      "Epoch 30/100\n",
      "15/15 [==============================] - 0s 22ms/step - val_loss: 0.6738\n",
      "Epoch 31/100\n",
      "15/15 [==============================] - 0s 13ms/step - val_loss: 0.6738\n",
      "Epoch 32/100\n",
      "15/15 [==============================] - 0s 14ms/step - val_loss: 0.6738\n",
      "Epoch 33/100\n",
      "15/15 [==============================] - 0s 19ms/step - val_loss: 0.6738\n",
      "Epoch 34/100\n",
      "14/15 [===========================>..] - ETA: 0s\n",
      "Epoch 00034: ReduceLROnPlateau reducing learning rate to 0.00015624999650754035.\n",
      "15/15 [==============================] - 0s 14ms/step - val_loss: 0.6738\n",
      "Epoch 35/100\n",
      "15/15 [==============================] - 0s 14ms/step - val_loss: 0.6738\n",
      "Epoch 36/100\n",
      "15/15 [==============================] - 0s 13ms/step - val_loss: 0.6738\n",
      "Epoch 37/100\n",
      "15/15 [==============================] - 0s 13ms/step - val_loss: 0.6738\n",
      "Epoch 38/100\n",
      "15/15 [==============================] - 0s 13ms/step - val_loss: 0.6738\n",
      "Epoch 39/100\n",
      "15/15 [==============================] - ETA: 0s\n",
      "Epoch 00039: ReduceLROnPlateau reducing learning rate to 7.812499825377017e-05.\n",
      "15/15 [==============================] - 0s 13ms/step - val_loss: 0.6738\n",
      "Epoch 40/100\n",
      "15/15 [==============================] - 0s 14ms/step - val_loss: 0.6738\n",
      "Epoch 41/100\n",
      "15/15 [==============================] - 0s 14ms/step - val_loss: 0.6738\n",
      "Epoch 42/100\n",
      "15/15 [==============================] - 0s 13ms/step - val_loss: 0.6738\n",
      "Epoch 43/100\n",
      "15/15 [==============================] - 0s 12ms/step - val_loss: 0.6738\n",
      "Epoch 44/100\n",
      "15/15 [==============================] - ETA: 0s\n",
      "Epoch 00044: ReduceLROnPlateau reducing learning rate to 3.9062499126885086e-05.\n",
      "15/15 [==============================] - 0s 14ms/step - val_loss: 0.6738\n",
      "Epoch 45/100\n",
      "15/15 [==============================] - 0s 20ms/step - val_loss: 0.6738\n",
      "Epoch 46/100\n",
      "15/15 [==============================] - 0s 16ms/step - val_loss: 0.6738\n",
      "Epoch 47/100\n",
      "15/15 [==============================] - 0s 16ms/step - val_loss: 0.6738\n",
      "Epoch 48/100\n",
      "15/15 [==============================] - 0s 12ms/step - val_loss: 0.6738\n",
      "Epoch 49/100\n",
      "13/15 [=========================>....] - ETA: 0s\n",
      "Epoch 00049: ReduceLROnPlateau reducing learning rate to 1.9531249563442543e-05.\n",
      "15/15 [==============================] - 0s 20ms/step - val_loss: 0.6738\n",
      "Epoch 50/100\n",
      "15/15 [==============================] - 0s 13ms/step - val_loss: 0.6738\n",
      "Epoch 51/100\n",
      "15/15 [==============================] - 0s 13ms/step - val_loss: 0.6738\n",
      "Epoch 52/100\n",
      "15/15 [==============================] - 0s 23ms/step - val_loss: 0.6738\n",
      "Epoch 53/100\n",
      "15/15 [==============================] - 0s 14ms/step - val_loss: 0.6738\n",
      "Epoch 54/100\n",
      "13/15 [=========================>....] - ETA: 0s\n",
      "Epoch 00054: ReduceLROnPlateau reducing learning rate to 9.765624781721272e-06.\n",
      "15/15 [==============================] - 0s 23ms/step - val_loss: 0.6738\n",
      "Epoch 55/100\n",
      "15/15 [==============================] - 0s 13ms/step - val_loss: 0.6738\n",
      "Epoch 56/100\n",
      "15/15 [==============================] - 0s 22ms/step - val_loss: 0.6738\n",
      "Epoch 57/100\n",
      "15/15 [==============================] - 0s 21ms/step - val_loss: 0.6738\n",
      "Epoch 58/100\n",
      "15/15 [==============================] - 0s 19ms/step - val_loss: 0.6738\n",
      "Epoch 59/100\n",
      "14/15 [===========================>..] - ETA: 0s\n",
      "Epoch 00059: ReduceLROnPlateau reducing learning rate to 4.882812390860636e-06.\n",
      "15/15 [==============================] - 0s 20ms/step - val_loss: 0.6738\n",
      "Epoch 60/100\n",
      "15/15 [==============================] - 0s 15ms/step - val_loss: 0.6738\n",
      "Epoch 61/100\n",
      "15/15 [==============================] - 0s 14ms/step - val_loss: 0.6738\n",
      "Epoch 62/100\n",
      "15/15 [==============================] - 0s 14ms/step - val_loss: 0.6738\n",
      "Epoch 63/100\n",
      "15/15 [==============================] - 0s 14ms/step - val_loss: 0.6738\n",
      "Epoch 64/100\n",
      "13/15 [=========================>....] - ETA: 0s\n",
      "Epoch 00064: ReduceLROnPlateau reducing learning rate to 2.441406195430318e-06.\n",
      "15/15 [==============================] - 0s 15ms/step - val_loss: 0.6738\n",
      "Epoch 65/100\n",
      "15/15 [==============================] - 0s 14ms/step - val_loss: 0.6738\n",
      "Epoch 66/100\n",
      "15/15 [==============================] - 0s 14ms/step - val_loss: 0.6738\n",
      "Epoch 67/100\n",
      "15/15 [==============================] - 0s 15ms/step - val_loss: 0.6738\n",
      "Epoch 68/100\n",
      "15/15 [==============================] - 0s 15ms/step - val_loss: 0.6738\n",
      "Epoch 69/100\n",
      "15/15 [==============================] - ETA: 0s\n",
      "Epoch 00069: ReduceLROnPlateau reducing learning rate to 1.220703097715159e-06.\n",
      "15/15 [==============================] - 0s 14ms/step - val_loss: 0.6738\n",
      "Epoch 70/100\n",
      "15/15 [==============================] - 0s 14ms/step - val_loss: 0.6738\n",
      "Epoch 71/100\n",
      "15/15 [==============================] - 0s 14ms/step - val_loss: 0.6738\n",
      "Epoch 72/100\n",
      "15/15 [==============================] - 0s 14ms/step - val_loss: 0.6738\n",
      "Epoch 73/100\n",
      "15/15 [==============================] - 0s 12ms/step - val_loss: 0.6738\n",
      "Epoch 74/100\n",
      "11/15 [=====================>........] - ETA: 0s\n",
      "Epoch 00074: ReduceLROnPlateau reducing learning rate to 6.103515488575795e-07.\n",
      "15/15 [==============================] - 0s 13ms/step - val_loss: 0.6738\n",
      "Epoch 75/100\n"
     ]
    },
    {
     "name": "stdout",
     "output_type": "stream",
     "text": [
      "15/15 [==============================] - 0s 14ms/step - val_loss: 0.6738\n",
      "Epoch 76/100\n",
      "15/15 [==============================] - 0s 13ms/step - val_loss: 0.6738\n",
      "Epoch 77/100\n",
      "15/15 [==============================] - 0s 12ms/step - val_loss: 0.6738\n",
      "Epoch 78/100\n",
      "15/15 [==============================] - 0s 12ms/step - val_loss: 0.6738\n",
      "Epoch 79/100\n",
      "11/15 [=====================>........] - ETA: 0s\n",
      "Epoch 00079: ReduceLROnPlateau reducing learning rate to 3.0517577442878974e-07.\n",
      "15/15 [==============================] - 0s 12ms/step - val_loss: 0.6738\n",
      "Epoch 80/100\n",
      "15/15 [==============================] - 0s 14ms/step - val_loss: 0.6738\n",
      "Epoch 81/100\n",
      "15/15 [==============================] - 0s 15ms/step - val_loss: 0.6738\n",
      "Epoch 82/100\n",
      "15/15 [==============================] - 0s 14ms/step - val_loss: 0.6738\n",
      "Epoch 83/100\n",
      "15/15 [==============================] - 0s 16ms/step - val_loss: 0.6738\n",
      "Epoch 84/100\n",
      "12/15 [=======================>......] - ETA: 0s\n",
      "Epoch 00084: ReduceLROnPlateau reducing learning rate to 1.5258788721439487e-07.\n",
      "15/15 [==============================] - 0s 16ms/step - val_loss: 0.6738\n",
      "Epoch 85/100\n",
      "15/15 [==============================] - 0s 14ms/step - val_loss: 0.6738\n",
      "Epoch 86/100\n",
      "15/15 [==============================] - 0s 12ms/step - val_loss: 0.6738\n",
      "Epoch 87/100\n",
      "15/15 [==============================] - 0s 14ms/step - val_loss: 0.6738\n",
      "Epoch 88/100\n",
      "15/15 [==============================] - 0s 13ms/step - val_loss: 0.6738\n",
      "Epoch 89/100\n",
      "15/15 [==============================] - ETA: 0s\n",
      "Epoch 00089: ReduceLROnPlateau reducing learning rate to 7.629394360719743e-08.\n",
      "15/15 [==============================] - 0s 14ms/step - val_loss: 0.6738\n",
      "Epoch 90/100\n",
      "15/15 [==============================] - 0s 13ms/step - val_loss: 0.6738\n",
      "Epoch 91/100\n",
      "15/15 [==============================] - 0s 12ms/step - val_loss: 0.6738\n",
      "Epoch 92/100\n",
      "15/15 [==============================] - 0s 13ms/step - val_loss: 0.6738\n",
      "Epoch 93/100\n",
      "15/15 [==============================] - 0s 12ms/step - val_loss: 0.6738\n",
      "Epoch 94/100\n",
      "11/15 [=====================>........] - ETA: 0s\n",
      "Epoch 00094: ReduceLROnPlateau reducing learning rate to 3.814697180359872e-08.\n",
      "15/15 [==============================] - 0s 12ms/step - val_loss: 0.6738\n",
      "Epoch 95/100\n",
      "15/15 [==============================] - 0s 14ms/step - val_loss: 0.6738\n",
      "Epoch 96/100\n",
      "15/15 [==============================] - 0s 13ms/step - val_loss: 0.6738\n",
      "Epoch 97/100\n",
      "15/15 [==============================] - 0s 13ms/step - val_loss: 0.6738\n",
      "Epoch 98/100\n",
      "15/15 [==============================] - 0s 12ms/step - val_loss: 0.6738\n",
      "Epoch 99/100\n",
      "15/15 [==============================] - ETA: 0s\n",
      "Epoch 00099: ReduceLROnPlateau reducing learning rate to 1.907348590179936e-08.\n",
      "15/15 [==============================] - 0s 13ms/step - val_loss: 0.6738\n",
      "Epoch 100/100\n",
      "15/15 [==============================] - 0s 15ms/step - val_loss: 0.6738\n"
     ]
    },
    {
     "data": {
      "text/plain": [
       "<tensorflow.python.keras.callbacks.History at 0x7f4b88371908>"
      ]
     },
     "execution_count": 55,
     "metadata": {},
     "output_type": "execute_result"
    }
   ],
   "source": [
    "callbacks = [tf.keras.callbacks.ReduceLROnPlateau(factor=0.5, patience=5, verbose=1)]\n",
    "gnn.fit((particles_train, A_tilde), A, epochs=100, batch_size=128, validation_split=0.25, callbacks=callbacks)"
   ]
  },
  {
   "cell_type": "markdown",
   "metadata": {},
   "source": [
    "# predict background"
   ]
  },
  {
   "cell_type": "code",
   "execution_count": 56,
   "metadata": {
    "collapsed": true
   },
   "outputs": [
    {
     "name": "stderr",
     "output_type": "stream",
     "text": [
      "/home/kinga/.local/lib/python3.6/site-packages/ipykernel_launcher.py:3: RuntimeWarning: divide by zero encountered in power\n",
      "  This is separate from the ipykernel package so we can avoid doing imports until\n"
     ]
    }
   ],
   "source": [
    "particles_test = particles[3000:4000]\n",
    "A_test = make_adjacencies(particles_test)\n",
    "A_tilde_test = normalized_adjacency(A_test)"
   ]
  },
  {
   "cell_type": "code",
   "execution_count": 57,
   "metadata": {
    "collapsed": true
   },
   "outputs": [
    {
     "name": "stdout",
     "output_type": "stream",
     "text": [
      "WARNING:tensorflow:Layer graph_autoencoder_2 is casting an input tensor from dtype float64 to the layer's dtype of float32, which is new behavior in TensorFlow 2.  The layer has dtype float32 because its dtype defaults to floatx.\n",
      "\n",
      "If you intended to run this layer in float32, you can safely ignore this warning. If in doubt, this warning is likely only an issue if you are porting a TensorFlow 1.X model to TensorFlow 2.\n",
      "\n",
      "To change all layers to have dtype float64 by default, call `tf.keras.backend.set_floatx('float64')`. To change just this layer, pass dtype='float64' to the layer constructor. If you are the author of this layer, you can disable autocasting by passing autocast=False to the base Layer constructor.\n",
      "\n"
     ]
    }
   ],
   "source": [
    "z, A_pred = gnn((particles_test, A_tilde_test))"
   ]
  },
  {
   "cell_type": "code",
   "execution_count": 58,
   "metadata": {},
   "outputs": [],
   "source": [
    "A_reco = (tf.nn.sigmoid(A_pred) > 0.5).numpy().astype('int') "
   ]
  },
  {
   "cell_type": "code",
   "execution_count": 59,
   "metadata": {},
   "outputs": [],
   "source": [
    "loss_background = tf.math.reduce_mean(tf.nn.sigmoid_cross_entropy_with_logits(A_test, A_pred), axis=(1,2))"
   ]
  },
  {
   "cell_type": "code",
   "execution_count": 60,
   "metadata": {},
   "outputs": [
    {
     "data": {
      "text/plain": [
       "0.6930421"
      ]
     },
     "execution_count": 60,
     "metadata": {},
     "output_type": "execute_result"
    }
   ],
   "source": [
    "np.mean(loss_background)"
   ]
  },
  {
   "cell_type": "markdown",
   "metadata": {},
   "source": [
    "# load and predict signal"
   ]
  },
  {
   "cell_type": "code",
   "execution_count": 61,
   "metadata": {},
   "outputs": [],
   "source": [
    "# set the correct signal filename \n",
    "filename = 'signal_file'\n",
    "ff = h5py.File(filename, 'r')\n",
    "particles_signal = np.asarray(ff.get('Particles'))"
   ]
  },
  {
   "cell_type": "code",
   "execution_count": 62,
   "metadata": {},
   "outputs": [
    {
     "data": {
      "text/plain": [
       "(691283, 19, 4)"
      ]
     },
     "execution_count": 62,
     "metadata": {},
     "output_type": "execute_result"
    }
   ],
   "source": [
    "particles_signal.shape"
   ]
  },
  {
   "cell_type": "code",
   "execution_count": 63,
   "metadata": {},
   "outputs": [],
   "source": [
    "# features: array([b'Pt', b'Eta', b'Phi', b'Class'], dtype='|S5')\n",
    "particles_signal_test = particles_signal[:3000]"
   ]
  },
  {
   "cell_type": "code",
   "execution_count": 64,
   "metadata": {
    "collapsed": true
   },
   "outputs": [
    {
     "name": "stderr",
     "output_type": "stream",
     "text": [
      "/home/kinga/.local/lib/python3.6/site-packages/ipykernel_launcher.py:3: RuntimeWarning: divide by zero encountered in power\n",
      "  This is separate from the ipykernel package so we can avoid doing imports until\n"
     ]
    }
   ],
   "source": [
    "A_signal = make_adjacencies(particles_signal_test)\n",
    "A_tilde_signal = normalized_adjacency(A_signal)"
   ]
  },
  {
   "cell_type": "code",
   "execution_count": 65,
   "metadata": {},
   "outputs": [
    {
     "data": {
      "image/png": "[encoded data removed]",
      "text/plain": [
       "<Figure size 432x288 with 1 Axes>"
      ]
     },
     "metadata": {
      "needs_background": "light"
     },
     "output_type": "display_data"
    }
   ],
   "source": [
    "plt.hist(particles_signal_test[:,:,0].flatten())\n",
    "plt.yscale('log')"
   ]
  },
  {
   "cell_type": "code",
   "execution_count": 66,
   "metadata": {},
   "outputs": [],
   "source": [
    "particles_signal_test = normalize_features(particles_signal_test)"
   ]
  },
  {
   "cell_type": "code",
   "execution_count": 67,
   "metadata": {},
   "outputs": [
    {
     "data": {
      "text/plain": [
       "Text(0.5, 1.0, 'normalized pt')"
      ]
     },
     "execution_count": 67,
     "metadata": {},
     "output_type": "execute_result"
    },
    {
     "data": {
      "image/png": "[encoded data removed]",
      "text/plain": [
       "<Figure size 432x288 with 1 Axes>"
      ]
     },
     "metadata": {
      "needs_background": "light"
     },
     "output_type": "display_data"
    }
   ],
   "source": [
    "plt.hist(particles_signal_test[:,:,0].flatten())\n",
    "plt.yscale('log')\n",
    "plt.title('normalized pt')"
   ]
  },
  {
   "cell_type": "code",
   "execution_count": 68,
   "metadata": {},
   "outputs": [],
   "source": [
    "z_signal, A_pred_signal = gnn((particles_signal_test, A_tilde_signal))"
   ]
  },
  {
   "cell_type": "code",
   "execution_count": 69,
   "metadata": {},
   "outputs": [],
   "source": [
    "A_reco_signal = (tf.nn.sigmoid(A_pred_signal) > 0.5).numpy().astype('int') "
   ]
  },
  {
   "cell_type": "code",
   "execution_count": 70,
   "metadata": {},
   "outputs": [],
   "source": [
    "loss_signal = tf.math.reduce_mean(tf.nn.sigmoid_cross_entropy_with_logits(A_signal, A_pred_signal), axis=(1,2))"
   ]
  },
  {
   "cell_type": "code",
   "execution_count": 71,
   "metadata": {},
   "outputs": [
    {
     "data": {
      "text/plain": [
       "0.69312567"
      ]
     },
     "execution_count": 71,
     "metadata": {},
     "output_type": "execute_result"
    }
   ],
   "source": [
    "np.mean(loss_signal)"
   ]
  },
  {
   "cell_type": "markdown",
   "metadata": {},
   "source": [
    "# build model: Variational Autoencoder"
   ]
  },
  {
   "cell_type": "code",
   "execution_count": 76,
   "metadata": {},
   "outputs": [],
   "source": [
    "gnn = GraphVariationalAutoencoder(nodes_n=nodes_n, feat_sz=feat_sz, activation=tf.nn.tanh)\n",
    "gnn.compile(optimizer=tf.keras.optimizers.Adam(learning_rate=0.01), run_eagerly=True)"
   ]
  },
  {
   "cell_type": "markdown",
   "metadata": {},
   "source": [
    "# train model"
   ]
  },
  {
   "cell_type": "code",
   "execution_count": 77,
   "metadata": {},
   "outputs": [
    {
     "name": "stdout",
     "output_type": "stream",
     "text": [
      "Epoch 1/100\n",
      "15/15 [==============================] - 0s 24ms/step - loss: 0.8048 - loss_reco: 0.8033 - loss_latent: 0.0015 - val_loss: 0.8070 - val_loss_reco: 0.8067 - val_loss_latent: 2.8398e-04\n",
      "Epoch 2/100\n",
      "15/15 [==============================] - 0s 22ms/step - loss: 0.8015 - loss_reco: 0.8014 - loss_latent: 1.1290e-04 - val_loss: 0.7963 - val_loss_reco: 0.7962 - val_loss_latent: 2.3983e-05\n",
      "Epoch 3/100\n",
      "15/15 [==============================] - 0s 23ms/step - loss: 0.8014 - loss_reco: 0.8014 - loss_latent: 5.3270e-05 - val_loss: 0.8049 - val_loss_reco: 0.8048 - val_loss_latent: 9.3976e-05\n",
      "Epoch 4/100\n",
      "15/15 [==============================] - 0s 21ms/step - loss: 0.7993 - loss_reco: 0.7989 - loss_latent: 3.4072e-04 - val_loss: 0.7990 - val_loss_reco: 0.7984 - val_loss_latent: 5.8588e-04\n",
      "Epoch 5/100\n",
      "15/15 [==============================] - 0s 22ms/step - loss: 0.7996 - loss_reco: 0.7982 - loss_latent: 0.0014 - val_loss: 0.8017 - val_loss_reco: 0.7998 - val_loss_latent: 0.0019\n",
      "Epoch 6/100\n",
      "15/15 [==============================] - 0s 23ms/step - loss: 0.7994 - loss_reco: 0.7971 - loss_latent: 0.0024 - val_loss: 0.7984 - val_loss_reco: 0.7962 - val_loss_latent: 0.0022\n",
      "Epoch 7/100\n",
      "13/15 [=========================>....] - ETA: 0s - loss: 0.7959 - loss_reco: 0.7936 - loss_latent: 0.0023\n",
      "Epoch 00007: ReduceLROnPlateau reducing learning rate to 0.004999999888241291.\n",
      "15/15 [==============================] - 0s 22ms/step - loss: 0.7971 - loss_reco: 0.7949 - loss_latent: 0.0022 - val_loss: 0.7968 - val_loss_reco: 0.7950 - val_loss_latent: 0.0018\n",
      "Epoch 8/100\n",
      "15/15 [==============================] - 0s 21ms/step - loss: 0.7973 - loss_reco: 0.7953 - loss_latent: 0.0020 - val_loss: 0.8113 - val_loss_reco: 0.8095 - val_loss_latent: 0.0018\n",
      "Epoch 9/100\n",
      "15/15 [==============================] - 0s 21ms/step - loss: 0.7975 - loss_reco: 0.7955 - loss_latent: 0.0020 - val_loss: 0.7985 - val_loss_reco: 0.7966 - val_loss_latent: 0.0018\n",
      "Epoch 10/100\n",
      "15/15 [==============================] - 0s 22ms/step - loss: 0.7974 - loss_reco: 0.7954 - loss_latent: 0.0021 - val_loss: 0.8139 - val_loss_reco: 0.8120 - val_loss_latent: 0.0019\n",
      "Epoch 11/100\n",
      "15/15 [==============================] - 0s 22ms/step - loss: 0.7990 - loss_reco: 0.7969 - loss_latent: 0.0021 - val_loss: 0.7984 - val_loss_reco: 0.7965 - val_loss_latent: 0.0020\n",
      "Epoch 12/100\n",
      "13/15 [=========================>....] - ETA: 0s - loss: 0.7964 - loss_reco: 0.7943 - loss_latent: 0.0021\n",
      "Epoch 00012: ReduceLROnPlateau reducing learning rate to 0.0024999999441206455.\n",
      "15/15 [==============================] - 0s 22ms/step - loss: 0.7959 - loss_reco: 0.7938 - loss_latent: 0.0022 - val_loss: 0.7989 - val_loss_reco: 0.7969 - val_loss_latent: 0.0020\n",
      "Epoch 13/100\n",
      "15/15 [==============================] - 0s 21ms/step - loss: 0.7972 - loss_reco: 0.7951 - loss_latent: 0.0021 - val_loss: 0.7918 - val_loss_reco: 0.7899 - val_loss_latent: 0.0019\n",
      "Epoch 14/100\n",
      "15/15 [==============================] - 0s 21ms/step - loss: 0.7996 - loss_reco: 0.7975 - loss_latent: 0.0021 - val_loss: 0.7970 - val_loss_reco: 0.7950 - val_loss_latent: 0.0020\n",
      "Epoch 15/100\n",
      "15/15 [==============================] - 0s 21ms/step - loss: 0.7977 - loss_reco: 0.7956 - loss_latent: 0.0022 - val_loss: 0.8035 - val_loss_reco: 0.8016 - val_loss_latent: 0.0020\n",
      "Epoch 16/100\n",
      "15/15 [==============================] - 0s 21ms/step - loss: 0.7978 - loss_reco: 0.7957 - loss_latent: 0.0021 - val_loss: 0.7939 - val_loss_reco: 0.7919 - val_loss_latent: 0.0019\n",
      "Epoch 17/100\n",
      "15/15 [==============================] - 0s 22ms/step - loss: 0.8004 - loss_reco: 0.7983 - loss_latent: 0.0021 - val_loss: 0.8134 - val_loss_reco: 0.8115 - val_loss_latent: 0.0020\n",
      "Epoch 18/100\n",
      "13/15 [=========================>....] - ETA: 0s - loss: 0.7958 - loss_reco: 0.7937 - loss_latent: 0.0021\n",
      "Epoch 00018: ReduceLROnPlateau reducing learning rate to 0.0012499999720603228.\n",
      "15/15 [==============================] - 0s 24ms/step - loss: 0.7962 - loss_reco: 0.7941 - loss_latent: 0.0021 - val_loss: 0.8057 - val_loss_reco: 0.8038 - val_loss_latent: 0.0019\n",
      "Epoch 19/100\n",
      "15/15 [==============================] - 0s 23ms/step - loss: 0.8000 - loss_reco: 0.7980 - loss_latent: 0.0021 - val_loss: 0.8045 - val_loss_reco: 0.8026 - val_loss_latent: 0.0019\n",
      "Epoch 20/100\n",
      "15/15 [==============================] - 0s 28ms/step - loss: 0.7994 - loss_reco: 0.7973 - loss_latent: 0.0021 - val_loss: 0.8045 - val_loss_reco: 0.8025 - val_loss_latent: 0.0019\n",
      "Epoch 21/100\n",
      "15/15 [==============================] - 0s 28ms/step - loss: 0.7964 - loss_reco: 0.7943 - loss_latent: 0.0021 - val_loss: 0.8047 - val_loss_reco: 0.8028 - val_loss_latent: 0.0019\n",
      "Epoch 22/100\n",
      "15/15 [==============================] - 0s 27ms/step - loss: 0.7983 - loss_reco: 0.7962 - loss_latent: 0.0021 - val_loss: 0.8096 - val_loss_reco: 0.8076 - val_loss_latent: 0.0019\n",
      "Epoch 23/100\n",
      "15/15 [==============================] - 0s 21ms/step - loss: 0.7960 - loss_reco: 0.7939 - loss_latent: 0.0021 - val_loss: 0.7914 - val_loss_reco: 0.7894 - val_loss_latent: 0.0020\n",
      "Epoch 24/100\n",
      "15/15 [==============================] - 1s 37ms/step - loss: 0.7966 - loss_reco: 0.7945 - loss_latent: 0.0021 - val_loss: 0.8045 - val_loss_reco: 0.8026 - val_loss_latent: 0.0019\n",
      "Epoch 25/100\n",
      "15/15 [==============================] - 0s 27ms/step - loss: 0.7958 - loss_reco: 0.7937 - loss_latent: 0.0021 - val_loss: 0.7969 - val_loss_reco: 0.7950 - val_loss_latent: 0.0019\n",
      "Epoch 26/100\n",
      "15/15 [==============================] - 0s 30ms/step - loss: 0.8014 - loss_reco: 0.7993 - loss_latent: 0.0021 - val_loss: 0.8001 - val_loss_reco: 0.7981 - val_loss_latent: 0.0020\n",
      "Epoch 27/100\n",
      "15/15 [==============================] - 1s 34ms/step - loss: 0.8004 - loss_reco: 0.7983 - loss_latent: 0.0021 - val_loss: 0.8049 - val_loss_reco: 0.8029 - val_loss_latent: 0.0020\n",
      "Epoch 28/100\n",
      "13/15 [=========================>....] - ETA: 0s - loss: 0.7977 - loss_reco: 0.7956 - loss_latent: 0.0021\n",
      "Epoch 00028: ReduceLROnPlateau reducing learning rate to 0.0006249999860301614.\n",
      "15/15 [==============================] - 0s 22ms/step - loss: 0.7969 - loss_reco: 0.7948 - loss_latent: 0.0021 - val_loss: 0.8003 - val_loss_reco: 0.7983 - val_loss_latent: 0.0020\n",
      "Epoch 29/100\n",
      "15/15 [==============================] - 0s 22ms/step - loss: 0.7983 - loss_reco: 0.7962 - loss_latent: 0.0021 - val_loss: 0.8106 - val_loss_reco: 0.8086 - val_loss_latent: 0.0020\n",
      "Epoch 30/100\n",
      "15/15 [==============================] - 0s 22ms/step - loss: 0.7994 - loss_reco: 0.7972 - loss_latent: 0.0022 - val_loss: 0.7958 - val_loss_reco: 0.7938 - val_loss_latent: 0.0020\n",
      "Epoch 31/100\n",
      "15/15 [==============================] - 0s 22ms/step - loss: 0.7957 - loss_reco: 0.7935 - loss_latent: 0.0022 - val_loss: 0.8060 - val_loss_reco: 0.8040 - val_loss_latent: 0.0020\n",
      "Epoch 32/100\n",
      "15/15 [==============================] - 0s 26ms/step - loss: 0.7976 - loss_reco: 0.7954 - loss_latent: 0.0022 - val_loss: 0.7968 - val_loss_reco: 0.7948 - val_loss_latent: 0.0020\n",
      "Epoch 33/100\n",
      "13/15 [=========================>....] - ETA: 0s - loss: 0.7970 - loss_reco: 0.7949 - loss_latent: 0.0021\n",
      "Epoch 00033: ReduceLROnPlateau reducing learning rate to 0.0003124999930150807.\n",
      "15/15 [==============================] - 0s 22ms/step - loss: 0.7965 - loss_reco: 0.7943 - loss_latent: 0.0021 - val_loss: 0.7974 - val_loss_reco: 0.7954 - val_loss_latent: 0.0020\n",
      "Epoch 34/100\n",
      "15/15 [==============================] - 0s 21ms/step - loss: 0.7993 - loss_reco: 0.7972 - loss_latent: 0.0021 - val_loss: 0.8033 - val_loss_reco: 0.8013 - val_loss_latent: 0.0020\n",
      "Epoch 35/100\n",
      "15/15 [==============================] - 0s 21ms/step - loss: 0.8002 - loss_reco: 0.7981 - loss_latent: 0.0021 - val_loss: 0.8138 - val_loss_reco: 0.8118 - val_loss_latent: 0.0020\n",
      "Epoch 36/100\n",
      "15/15 [==============================] - 1s 36ms/step - loss: 0.7955 - loss_reco: 0.7933 - loss_latent: 0.0021 - val_loss: 0.7976 - val_loss_reco: 0.7956 - val_loss_latent: 0.0020\n",
      "Epoch 37/100\n",
      "15/15 [==============================] - 0s 28ms/step - loss: 0.7964 - loss_reco: 0.7943 - loss_latent: 0.0021 - val_loss: 0.8023 - val_loss_reco: 0.8004 - val_loss_latent: 0.0020\n",
      "Epoch 38/100\n"
     ]
    },
    {
     "name": "stdout",
     "output_type": "stream",
     "text": [
      "13/15 [=========================>....] - ETA: 0s - loss: 0.7982 - loss_reco: 0.7961 - loss_latent: 0.0021\n",
      "Epoch 00038: ReduceLROnPlateau reducing learning rate to 0.00015624999650754035.\n",
      "15/15 [==============================] - 0s 30ms/step - loss: 0.7984 - loss_reco: 0.7963 - loss_latent: 0.0021 - val_loss: 0.8007 - val_loss_reco: 0.7987 - val_loss_latent: 0.0020\n",
      "Epoch 39/100\n",
      "15/15 [==============================] - 0s 28ms/step - loss: 0.8013 - loss_reco: 0.7992 - loss_latent: 0.0021 - val_loss: 0.8024 - val_loss_reco: 0.8004 - val_loss_latent: 0.0020\n",
      "Epoch 40/100\n",
      "15/15 [==============================] - 0s 28ms/step - loss: 0.7975 - loss_reco: 0.7954 - loss_latent: 0.0021 - val_loss: 0.7990 - val_loss_reco: 0.7971 - val_loss_latent: 0.0020\n",
      "Epoch 41/100\n",
      "15/15 [==============================] - 0s 28ms/step - loss: 0.7990 - loss_reco: 0.7969 - loss_latent: 0.0021 - val_loss: 0.8114 - val_loss_reco: 0.8095 - val_loss_latent: 0.0020\n",
      "Epoch 42/100\n",
      "15/15 [==============================] - 0s 26ms/step - loss: 0.7965 - loss_reco: 0.7943 - loss_latent: 0.0021 - val_loss: 0.7977 - val_loss_reco: 0.7957 - val_loss_latent: 0.0020\n",
      "Epoch 43/100\n",
      "13/15 [=========================>....] - ETA: 0s - loss: 0.7960 - loss_reco: 0.7940 - loss_latent: 0.0021\n",
      "Epoch 00043: ReduceLROnPlateau reducing learning rate to 7.812499825377017e-05.\n",
      "15/15 [==============================] - 0s 28ms/step - loss: 0.7946 - loss_reco: 0.7924 - loss_latent: 0.0021 - val_loss: 0.7924 - val_loss_reco: 0.7904 - val_loss_latent: 0.0020\n",
      "Epoch 44/100\n",
      "15/15 [==============================] - 0s 27ms/step - loss: 0.7982 - loss_reco: 0.7961 - loss_latent: 0.0021 - val_loss: 0.8081 - val_loss_reco: 0.8061 - val_loss_latent: 0.0020\n",
      "Epoch 45/100\n",
      "15/15 [==============================] - 0s 24ms/step - loss: 0.7954 - loss_reco: 0.7933 - loss_latent: 0.0021 - val_loss: 0.7973 - val_loss_reco: 0.7953 - val_loss_latent: 0.0020\n",
      "Epoch 46/100\n",
      "15/15 [==============================] - 0s 30ms/step - loss: 0.7956 - loss_reco: 0.7935 - loss_latent: 0.0021 - val_loss: 0.8050 - val_loss_reco: 0.8030 - val_loss_latent: 0.0020\n",
      "Epoch 47/100\n",
      "15/15 [==============================] - 0s 28ms/step - loss: 0.7971 - loss_reco: 0.7949 - loss_latent: 0.0021 - val_loss: 0.8054 - val_loss_reco: 0.8034 - val_loss_latent: 0.0020\n",
      "Epoch 48/100\n",
      "13/15 [=========================>....] - ETA: 0s - loss: 0.7986 - loss_reco: 0.7965 - loss_latent: 0.0021\n",
      "Epoch 00048: ReduceLROnPlateau reducing learning rate to 3.9062499126885086e-05.\n",
      "15/15 [==============================] - 0s 26ms/step - loss: 0.7980 - loss_reco: 0.7959 - loss_latent: 0.0021 - val_loss: 0.8078 - val_loss_reco: 0.8058 - val_loss_latent: 0.0020\n",
      "Epoch 49/100\n",
      "15/15 [==============================] - 0s 23ms/step - loss: 0.7969 - loss_reco: 0.7947 - loss_latent: 0.0021 - val_loss: 0.8055 - val_loss_reco: 0.8035 - val_loss_latent: 0.0020\n",
      "Epoch 50/100\n",
      "15/15 [==============================] - 0s 29ms/step - loss: 0.7972 - loss_reco: 0.7951 - loss_latent: 0.0021 - val_loss: 0.8004 - val_loss_reco: 0.7985 - val_loss_latent: 0.0020\n",
      "Epoch 51/100\n",
      "15/15 [==============================] - 0s 29ms/step - loss: 0.7968 - loss_reco: 0.7947 - loss_latent: 0.0021 - val_loss: 0.8088 - val_loss_reco: 0.8068 - val_loss_latent: 0.0020\n",
      "Epoch 52/100\n",
      "15/15 [==============================] - 0s 23ms/step - loss: 0.7978 - loss_reco: 0.7956 - loss_latent: 0.0021 - val_loss: 0.8141 - val_loss_reco: 0.8121 - val_loss_latent: 0.0020\n",
      "Epoch 53/100\n",
      "13/15 [=========================>....] - ETA: 0s - loss: 0.7985 - loss_reco: 0.7964 - loss_latent: 0.0021\n",
      "Epoch 00053: ReduceLROnPlateau reducing learning rate to 1.9531249563442543e-05.\n",
      "15/15 [==============================] - 0s 21ms/step - loss: 0.7968 - loss_reco: 0.7947 - loss_latent: 0.0021 - val_loss: 0.8035 - val_loss_reco: 0.8015 - val_loss_latent: 0.0020\n",
      "Epoch 54/100\n",
      "15/15 [==============================] - 0s 21ms/step - loss: 0.7987 - loss_reco: 0.7966 - loss_latent: 0.0021 - val_loss: 0.7909 - val_loss_reco: 0.7889 - val_loss_latent: 0.0020\n",
      "Epoch 55/100\n",
      "15/15 [==============================] - 0s 23ms/step - loss: 0.8002 - loss_reco: 0.7980 - loss_latent: 0.0021 - val_loss: 0.8046 - val_loss_reco: 0.8026 - val_loss_latent: 0.0020\n",
      "Epoch 56/100\n",
      "15/15 [==============================] - 0s 29ms/step - loss: 0.8000 - loss_reco: 0.7979 - loss_latent: 0.0021 - val_loss: 0.7963 - val_loss_reco: 0.7943 - val_loss_latent: 0.0020\n",
      "Epoch 57/100\n",
      "15/15 [==============================] - 0s 27ms/step - loss: 0.7973 - loss_reco: 0.7951 - loss_latent: 0.0021 - val_loss: 0.8021 - val_loss_reco: 0.8002 - val_loss_latent: 0.0020\n",
      "Epoch 58/100\n",
      "15/15 [==============================] - 0s 28ms/step - loss: 0.7988 - loss_reco: 0.7966 - loss_latent: 0.0021 - val_loss: 0.7948 - val_loss_reco: 0.7928 - val_loss_latent: 0.0020\n",
      "Epoch 59/100\n",
      "15/15 [==============================] - ETA: 0s - loss: 0.7972 - loss_reco: 0.7951 - loss_latent: 0.0021\n",
      "Epoch 00059: ReduceLROnPlateau reducing learning rate to 9.765624781721272e-06.\n",
      "15/15 [==============================] - 0s 25ms/step - loss: 0.7975 - loss_reco: 0.7954 - loss_latent: 0.0021 - val_loss: 0.7984 - val_loss_reco: 0.7965 - val_loss_latent: 0.0020\n",
      "Epoch 60/100\n",
      "15/15 [==============================] - 0s 26ms/step - loss: 0.7950 - loss_reco: 0.7929 - loss_latent: 0.0021 - val_loss: 0.8013 - val_loss_reco: 0.7994 - val_loss_latent: 0.0020\n",
      "Epoch 61/100\n",
      "15/15 [==============================] - 0s 22ms/step - loss: 0.7997 - loss_reco: 0.7976 - loss_latent: 0.0021 - val_loss: 0.8029 - val_loss_reco: 0.8009 - val_loss_latent: 0.0020\n",
      "Epoch 62/100\n",
      "15/15 [==============================] - 0s 22ms/step - loss: 0.7962 - loss_reco: 0.7941 - loss_latent: 0.0021 - val_loss: 0.7923 - val_loss_reco: 0.7903 - val_loss_latent: 0.0020\n",
      "Epoch 63/100\n",
      "15/15 [==============================] - 0s 25ms/step - loss: 0.7987 - loss_reco: 0.7966 - loss_latent: 0.0021 - val_loss: 0.8130 - val_loss_reco: 0.8111 - val_loss_latent: 0.0020\n",
      "Epoch 64/100\n",
      "15/15 [==============================] - ETA: 0s - loss: 0.7996 - loss_reco: 0.7974 - loss_latent: 0.0021\n",
      "Epoch 00064: ReduceLROnPlateau reducing learning rate to 4.882812390860636e-06.\n",
      "15/15 [==============================] - 0s 31ms/step - loss: 0.8000 - loss_reco: 0.7978 - loss_latent: 0.0021 - val_loss: 0.7996 - val_loss_reco: 0.7977 - val_loss_latent: 0.0020\n",
      "Epoch 65/100\n",
      "15/15 [==============================] - 0s 25ms/step - loss: 0.7956 - loss_reco: 0.7935 - loss_latent: 0.0021 - val_loss: 0.8025 - val_loss_reco: 0.8005 - val_loss_latent: 0.0020\n",
      "Epoch 66/100\n",
      "15/15 [==============================] - 0s 25ms/step - loss: 0.7981 - loss_reco: 0.7959 - loss_latent: 0.0021 - val_loss: 0.8004 - val_loss_reco: 0.7984 - val_loss_latent: 0.0020\n",
      "Epoch 67/100\n",
      "15/15 [==============================] - 0s 25ms/step - loss: 0.7991 - loss_reco: 0.7970 - loss_latent: 0.0021 - val_loss: 0.7962 - val_loss_reco: 0.7942 - val_loss_latent: 0.0020\n",
      "Epoch 68/100\n",
      "15/15 [==============================] - 0s 25ms/step - loss: 0.7984 - loss_reco: 0.7963 - loss_latent: 0.0021 - val_loss: 0.7971 - val_loss_reco: 0.7952 - val_loss_latent: 0.0020\n",
      "Epoch 69/100\n",
      "15/15 [==============================] - ETA: 0s - loss: 0.7981 - loss_reco: 0.7960 - loss_latent: 0.0021\n",
      "Epoch 00069: ReduceLROnPlateau reducing learning rate to 2.441406195430318e-06.\n",
      "15/15 [==============================] - 0s 28ms/step - loss: 0.7982 - loss_reco: 0.7961 - loss_latent: 0.0021 - val_loss: 0.7991 - val_loss_reco: 0.7971 - val_loss_latent: 0.0020\n",
      "Epoch 70/100\n",
      "15/15 [==============================] - 0s 26ms/step - loss: 0.7997 - loss_reco: 0.7976 - loss_latent: 0.0021 - val_loss: 0.7890 - val_loss_reco: 0.7870 - val_loss_latent: 0.0020\n",
      "Epoch 71/100\n",
      "15/15 [==============================] - 0s 22ms/step - loss: 0.7977 - loss_reco: 0.7956 - loss_latent: 0.0021 - val_loss: 0.8111 - val_loss_reco: 0.8091 - val_loss_latent: 0.0020\n",
      "Epoch 72/100\n",
      "15/15 [==============================] - 0s 24ms/step - loss: 0.7972 - loss_reco: 0.7951 - loss_latent: 0.0021 - val_loss: 0.8048 - val_loss_reco: 0.8028 - val_loss_latent: 0.0020\n",
      "Epoch 73/100\n",
      "15/15 [==============================] - 0s 29ms/step - loss: 0.7979 - loss_reco: 0.7958 - loss_latent: 0.0021 - val_loss: 0.8086 - val_loss_reco: 0.8066 - val_loss_latent: 0.0020\n"
     ]
    },
    {
     "name": "stdout",
     "output_type": "stream",
     "text": [
      "Epoch 74/100\n",
      "15/15 [==============================] - 0s 21ms/step - loss: 0.7960 - loss_reco: 0.7939 - loss_latent: 0.0021 - val_loss: 0.7941 - val_loss_reco: 0.7921 - val_loss_latent: 0.0020\n",
      "Epoch 75/100\n",
      "15/15 [==============================] - ETA: 0s - loss: 0.7973 - loss_reco: 0.7952 - loss_latent: 0.0021\n",
      "Epoch 00075: ReduceLROnPlateau reducing learning rate to 1.220703097715159e-06.\n",
      "15/15 [==============================] - 0s 30ms/step - loss: 0.7981 - loss_reco: 0.7960 - loss_latent: 0.0021 - val_loss: 0.7898 - val_loss_reco: 0.7878 - val_loss_latent: 0.0020\n",
      "Epoch 76/100\n",
      "15/15 [==============================] - 0s 28ms/step - loss: 0.7999 - loss_reco: 0.7977 - loss_latent: 0.0021 - val_loss: 0.7975 - val_loss_reco: 0.7955 - val_loss_latent: 0.0020\n",
      "Epoch 77/100\n",
      "15/15 [==============================] - 0s 22ms/step - loss: 0.7953 - loss_reco: 0.7931 - loss_latent: 0.0021 - val_loss: 0.7991 - val_loss_reco: 0.7971 - val_loss_latent: 0.0020\n",
      "Epoch 78/100\n",
      "15/15 [==============================] - 0s 21ms/step - loss: 0.7987 - loss_reco: 0.7966 - loss_latent: 0.0021 - val_loss: 0.8009 - val_loss_reco: 0.7989 - val_loss_latent: 0.0020\n",
      "Epoch 79/100\n",
      "15/15 [==============================] - 0s 22ms/step - loss: 0.7979 - loss_reco: 0.7958 - loss_latent: 0.0021 - val_loss: 0.8018 - val_loss_reco: 0.7998 - val_loss_latent: 0.0020\n",
      "Epoch 80/100\n",
      "15/15 [==============================] - 0s 26ms/step - loss: 0.8002 - loss_reco: 0.7981 - loss_latent: 0.0021 - val_loss: 0.7878 - val_loss_reco: 0.7858 - val_loss_latent: 0.0020\n",
      "Epoch 81/100\n",
      "15/15 [==============================] - 0s 25ms/step - loss: 0.7961 - loss_reco: 0.7939 - loss_latent: 0.0021 - val_loss: 0.8072 - val_loss_reco: 0.8052 - val_loss_latent: 0.0020\n",
      "Epoch 82/100\n",
      "15/15 [==============================] - 0s 29ms/step - loss: 0.7975 - loss_reco: 0.7954 - loss_latent: 0.0021 - val_loss: 0.7990 - val_loss_reco: 0.7970 - val_loss_latent: 0.0020\n",
      "Epoch 83/100\n",
      "15/15 [==============================] - 0s 22ms/step - loss: 0.7988 - loss_reco: 0.7966 - loss_latent: 0.0021 - val_loss: 0.8005 - val_loss_reco: 0.7986 - val_loss_latent: 0.0020\n",
      "Epoch 84/100\n",
      "15/15 [==============================] - 0s 28ms/step - loss: 0.7981 - loss_reco: 0.7960 - loss_latent: 0.0021 - val_loss: 0.8023 - val_loss_reco: 0.8003 - val_loss_latent: 0.0020\n",
      "Epoch 85/100\n",
      "15/15 [==============================] - ETA: 0s - loss: 0.7986 - loss_reco: 0.7965 - loss_latent: 0.0021\n",
      "Epoch 00085: ReduceLROnPlateau reducing learning rate to 6.103515488575795e-07.\n",
      "15/15 [==============================] - 0s 27ms/step - loss: 0.7996 - loss_reco: 0.7975 - loss_latent: 0.0021 - val_loss: 0.8090 - val_loss_reco: 0.8070 - val_loss_latent: 0.0020\n",
      "Epoch 86/100\n",
      "15/15 [==============================] - 0s 24ms/step - loss: 0.7987 - loss_reco: 0.7966 - loss_latent: 0.0021 - val_loss: 0.7996 - val_loss_reco: 0.7976 - val_loss_latent: 0.0020\n",
      "Epoch 87/100\n",
      "15/15 [==============================] - 0s 23ms/step - loss: 0.7978 - loss_reco: 0.7957 - loss_latent: 0.0021 - val_loss: 0.7991 - val_loss_reco: 0.7971 - val_loss_latent: 0.0020\n",
      "Epoch 88/100\n",
      "15/15 [==============================] - 0s 21ms/step - loss: 0.7971 - loss_reco: 0.7950 - loss_latent: 0.0021 - val_loss: 0.7918 - val_loss_reco: 0.7898 - val_loss_latent: 0.0020\n",
      "Epoch 89/100\n",
      "15/15 [==============================] - 0s 21ms/step - loss: 0.7956 - loss_reco: 0.7935 - loss_latent: 0.0021 - val_loss: 0.8016 - val_loss_reco: 0.7996 - val_loss_latent: 0.0020\n",
      "Epoch 90/100\n",
      "13/15 [=========================>....] - ETA: 0s - loss: 0.7992 - loss_reco: 0.7971 - loss_latent: 0.0021\n",
      "Epoch 00090: ReduceLROnPlateau reducing learning rate to 3.0517577442878974e-07.\n",
      "15/15 [==============================] - 0s 21ms/step - loss: 0.8008 - loss_reco: 0.7987 - loss_latent: 0.0021 - val_loss: 0.8087 - val_loss_reco: 0.8067 - val_loss_latent: 0.0020\n",
      "Epoch 91/100\n",
      "15/15 [==============================] - 0s 20ms/step - loss: 0.7968 - loss_reco: 0.7947 - loss_latent: 0.0021 - val_loss: 0.8089 - val_loss_reco: 0.8069 - val_loss_latent: 0.0020\n",
      "Epoch 92/100\n",
      "15/15 [==============================] - 0s 21ms/step - loss: 0.7990 - loss_reco: 0.7969 - loss_latent: 0.0021 - val_loss: 0.8044 - val_loss_reco: 0.8024 - val_loss_latent: 0.0020\n",
      "Epoch 93/100\n",
      "15/15 [==============================] - 0s 21ms/step - loss: 0.7977 - loss_reco: 0.7955 - loss_latent: 0.0021 - val_loss: 0.8007 - val_loss_reco: 0.7987 - val_loss_latent: 0.0020\n",
      "Epoch 94/100\n",
      "15/15 [==============================] - 0s 20ms/step - loss: 0.7964 - loss_reco: 0.7943 - loss_latent: 0.0021 - val_loss: 0.7928 - val_loss_reco: 0.7908 - val_loss_latent: 0.0020\n",
      "Epoch 95/100\n",
      "13/15 [=========================>....] - ETA: 0s - loss: 0.7995 - loss_reco: 0.7973 - loss_latent: 0.0021\n",
      "Epoch 00095: ReduceLROnPlateau reducing learning rate to 1.5258788721439487e-07.\n",
      "15/15 [==============================] - 0s 21ms/step - loss: 0.7973 - loss_reco: 0.7952 - loss_latent: 0.0021 - val_loss: 0.7957 - val_loss_reco: 0.7937 - val_loss_latent: 0.0020\n",
      "Epoch 96/100\n",
      "15/15 [==============================] - 0s 24ms/step - loss: 0.8001 - loss_reco: 0.7980 - loss_latent: 0.0021 - val_loss: 0.8052 - val_loss_reco: 0.8032 - val_loss_latent: 0.0020\n",
      "Epoch 97/100\n",
      "15/15 [==============================] - 0s 28ms/step - loss: 0.7959 - loss_reco: 0.7937 - loss_latent: 0.0021 - val_loss: 0.8113 - val_loss_reco: 0.8093 - val_loss_latent: 0.0020\n",
      "Epoch 98/100\n",
      "15/15 [==============================] - 0s 28ms/step - loss: 0.7990 - loss_reco: 0.7969 - loss_latent: 0.0021 - val_loss: 0.7957 - val_loss_reco: 0.7937 - val_loss_latent: 0.0020\n",
      "Epoch 99/100\n",
      "15/15 [==============================] - 0s 27ms/step - loss: 0.8006 - loss_reco: 0.7984 - loss_latent: 0.0021 - val_loss: 0.8102 - val_loss_reco: 0.8082 - val_loss_latent: 0.0020\n",
      "Epoch 100/100\n",
      "13/15 [=========================>....] - ETA: 0s - loss: 0.7948 - loss_reco: 0.7927 - loss_latent: 0.0021\n",
      "Epoch 00100: ReduceLROnPlateau reducing learning rate to 7.629394360719743e-08.\n",
      "15/15 [==============================] - 0s 26ms/step - loss: 0.7938 - loss_reco: 0.7916 - loss_latent: 0.0021 - val_loss: 0.8074 - val_loss_reco: 0.8054 - val_loss_latent: 0.0020\n"
     ]
    },
    {
     "data": {
      "text/plain": [
       "<tensorflow.python.keras.callbacks.History at 0x7f4b76843710>"
      ]
     },
     "execution_count": 77,
     "metadata": {},
     "output_type": "execute_result"
    }
   ],
   "source": [
    "callbacks = [tf.keras.callbacks.ReduceLROnPlateau(factor=0.5, patience=5, verbose=1)]\n",
    "gnn.fit((particles_train, A_tilde), A, epochs=100, batch_size=batch_size, validation_split=0.25, callbacks=callbacks)"
   ]
  },
  {
   "cell_type": "markdown",
   "metadata": {},
   "source": [
    "# predict background"
   ]
  },
  {
   "cell_type": "code",
   "execution_count": 78,
   "metadata": {
    "collapsed": true
   },
   "outputs": [
    {
     "name": "stdout",
     "output_type": "stream",
     "text": [
      "WARNING:tensorflow:Layer graph_variational_autoencoder_2 is casting an input tensor from dtype float64 to the layer's dtype of float32, which is new behavior in TensorFlow 2.  The layer has dtype float32 because its dtype defaults to floatx.\n",
      "\n",
      "If you intended to run this layer in float32, you can safely ignore this warning. If in doubt, this warning is likely only an issue if you are porting a TensorFlow 1.X model to TensorFlow 2.\n",
      "\n",
      "To change all layers to have dtype float64 by default, call `tf.keras.backend.set_floatx('float64')`. To change just this layer, pass dtype='float64' to the layer constructor. If you are the author of this layer, you can disable autocasting by passing autocast=False to the base Layer constructor.\n",
      "\n"
     ]
    }
   ],
   "source": [
    "z, z_mean, z_log_var, A_pred = gnn((particles_test, A_tilde_test))"
   ]
  },
  {
   "cell_type": "code",
   "execution_count": 79,
   "metadata": {},
   "outputs": [],
   "source": [
    "A_reco = (tf.nn.sigmoid(A_pred) > 0.5).numpy().astype('int') "
   ]
  },
  {
   "cell_type": "code",
   "execution_count": 80,
   "metadata": {},
   "outputs": [],
   "source": [
    "loss_background_reco = tf.math.reduce_mean(tf.nn.sigmoid_cross_entropy_with_logits(A_test, A_pred), axis=(1,2))"
   ]
  },
  {
   "cell_type": "code",
   "execution_count": 82,
   "metadata": {},
   "outputs": [],
   "source": [
    "loss_background_latent = kl_loss(z_mean, z_log_var)"
   ]
  },
  {
   "cell_type": "code",
   "execution_count": 83,
   "metadata": {},
   "outputs": [
    {
     "data": {
      "text/plain": [
       "0.8112967"
      ]
     },
     "execution_count": 83,
     "metadata": {},
     "output_type": "execute_result"
    }
   ],
   "source": [
    "np.mean(loss_background_reco)"
   ]
  },
  {
   "cell_type": "code",
   "execution_count": 84,
   "metadata": {},
   "outputs": [
    {
     "data": {
      "text/plain": [
       "0.0036986305"
      ]
     },
     "execution_count": 84,
     "metadata": {},
     "output_type": "execute_result"
    }
   ],
   "source": [
    "np.mean(loss_background_latent)"
   ]
  },
  {
   "cell_type": "markdown",
   "metadata": {},
   "source": [
    "# predict signal"
   ]
  },
  {
   "cell_type": "code",
   "execution_count": 85,
   "metadata": {},
   "outputs": [],
   "source": [
    "z_signal, z_mean_signal, z_log_var_signal, A_pred_signal = gnn((particles_signal_test, A_tilde_signal))"
   ]
  },
  {
   "cell_type": "code",
   "execution_count": 86,
   "metadata": {},
   "outputs": [],
   "source": [
    "A_reco_signal = (tf.nn.sigmoid(A_pred_signal) > 0.5).numpy().astype('int') "
   ]
  },
  {
   "cell_type": "code",
   "execution_count": 87,
   "metadata": {},
   "outputs": [],
   "source": [
    "loss_signal_reco = tf.math.reduce_mean(tf.nn.sigmoid_cross_entropy_with_logits(A_signal, A_pred_signal), axis=(1,2))"
   ]
  },
  {
   "cell_type": "code",
   "execution_count": 88,
   "metadata": {},
   "outputs": [],
   "source": [
    "loss_signal_latent = kl_loss(z_mean_signal, z_log_var_signal)"
   ]
  },
  {
   "cell_type": "code",
   "execution_count": 89,
   "metadata": {},
   "outputs": [
    {
     "data": {
      "text/plain": [
       "0.8038542"
      ]
     },
     "execution_count": 89,
     "metadata": {},
     "output_type": "execute_result"
    }
   ],
   "source": [
    "np.mean(loss_signal_reco)"
   ]
  },
  {
   "cell_type": "code",
   "execution_count": 90,
   "metadata": {},
   "outputs": [
    {
     "data": {
      "text/plain": [
       "0.005094626"
      ]
     },
     "execution_count": 90,
     "metadata": {},
     "output_type": "execute_result"
    }
   ],
   "source": [
    "np.mean(loss_signal_latent)"
   ]
  }
 ],
 "metadata": {
  "kernelspec": {
   "display_name": "Python 3",
   "language": "python",
   "name": "python3"
  },
  "language_info": {
   "codemirror_mode": {
    "name": "ipython",
    "version": 3
   },
   "file_extension": ".py",
   "mimetype": "text/x-python",
   "name": "python",
   "nbconvert_exporter": "python",
   "pygments_lexer": "ipython3",
   "version": "3.6.9"
  }
 },
 "nbformat": 4,
 "nbformat_minor": 2
}
