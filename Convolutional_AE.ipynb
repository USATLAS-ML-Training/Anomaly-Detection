{
 "cells": [
  {
   "cell_type": "code",
   "execution_count": 2,
   "id": "c5ac1d8a",
   "metadata": {},
   "outputs": [],
   "source": [
    "#Choose the tensorflow-v2.2.0-gpu kernel from the dropdown menu!\n",
    "import numpy as np\n",
    "import h5py\n",
    "import math\n",
    "import os\n",
    "import pathlib\n",
    "import matplotlib.pyplot as plt\n",
    "import matplotlib\n",
    "%matplotlib inline\n",
    "import tensorflow as tf\n",
    "import tensorflow.keras as keras\n",
    "from tensorflow.keras.models import Model\n",
    "from tensorflow.keras.layers import Input, Dense,ZeroPadding2D, BatchNormalization, Activation, Layer, ReLU, LeakyReLU,Conv2D,AveragePooling2D,UpSampling2D,Reshape,Flatten\n",
    "from tensorflow.keras import backend as K"
   ]
  },
  {
   "cell_type": "code",
   "execution_count": 3,
   "id": "50b2e16b",
   "metadata": {},
   "outputs": [
    {
     "name": "stdout",
     "output_type": "stream",
     "text": [
      "2.2.0\n"
     ]
    }
   ],
   "source": [
    "# Must be TF version 2\n",
    "print(tf.__version__)"
   ]
  },
  {
   "cell_type": "code",
   "execution_count": 4,
   "id": "93887d9b",
   "metadata": {},
   "outputs": [],
   "source": [
    "from func import load_model, save_model"
   ]
  },
  {
   "cell_type": "markdown",
   "id": "b33a207a",
   "metadata": {},
   "source": [
    "## Load dataset"
   ]
  },
  {
   "cell_type": "code",
   "execution_count": 5,
   "id": "fa793615",
   "metadata": {},
   "outputs": [],
   "source": [
    "# You should already have run\n",
    "# python create_datasets.py --bkg_file /ocean/projects/cis210053p/jngadiub/background_for_training.h5 --output_bkg_name 'BKG' --signals_files '/ocean/projects/cis210053p/jngadiub/Ato4l_lepFilter_13TeV.h5' --output_signal_names 'Ato4l_lepFilter_13TeV' --events=1000000\n",
    "filename = '/global/cscratch1/sd/vmikuni/ADC/BKG_dataset.h5'"
   ]
  },
  {
   "cell_type": "code",
   "execution_count": 6,
   "id": "8a7d8f3c",
   "metadata": {},
   "outputs": [
    {
     "name": "stdout",
     "output_type": "stream",
     "text": [
      "(640000, 57)\n",
      "(640000, 19, 3, 1)\n"
     ]
    }
   ],
   "source": [
    "# load background training data\n",
    "with h5py.File(filename, 'r') as file:\n",
    "    X_train = np.array(file['X_train'])\n",
    "    X_test = np.array(file['X_test'])\n",
    "    X_val = np.array(file['X_val'])\n",
    "\n",
    "print(X_train.shape)\n",
    "X_train = np.reshape(X_train, (-1, 19,3,1))\n",
    "X_test = np.reshape(X_test, (-1, 19,3,1))\n",
    "X_val = np.reshape(X_val, (-1, 19,3,1))\n",
    "\n",
    "print(X_train.shape)"
   ]
  },
  {
   "cell_type": "markdown",
   "id": "7326ebec",
   "metadata": {},
   "source": [
    "## Define CNN architecture"
   ]
  },
  {
   "cell_type": "code",
   "execution_count": 7,
   "id": "5a735ec2",
   "metadata": {},
   "outputs": [],
   "source": [
    "image_shape = (19,3,1)\n",
    "latent_dimension = 8\n",
    "num_nodes=[16,8]"
   ]
  },
  {
   "cell_type": "code",
   "execution_count": 8,
   "id": "b2b6ce46",
   "metadata": {},
   "outputs": [
    {
     "name": "stdout",
     "output_type": "stream",
     "text": [
      "Model: \"model_1\"\n",
      "_________________________________________________________________\n",
      "Layer (type)                 Output Shape              Param #   \n",
      "=================================================================\n",
      "input_1 (InputLayer)         [(None, 19, 3, 1)]        0         \n",
      "_________________________________________________________________\n",
      "conv2d (Conv2D)              (None, 19, 3, 10)         90        \n",
      "_________________________________________________________________\n",
      "average_pooling2d (AveragePo (None, 9, 3, 10)          0         \n",
      "_________________________________________________________________\n",
      "batch_normalization (BatchNo (None, 9, 3, 10)          40        \n",
      "_________________________________________________________________\n",
      "activation (Activation)      (None, 9, 3, 10)          0         \n",
      "_________________________________________________________________\n",
      "flatten (Flatten)            (None, 270)               0         \n",
      "_________________________________________________________________\n",
      "dense (Dense)                (None, 8)                 2168      \n",
      "_________________________________________________________________\n",
      "activation_1 (Activation)    (None, 8)                 0         \n",
      "_________________________________________________________________\n",
      "dense_1 (Dense)              (None, 270)               2430      \n",
      "_________________________________________________________________\n",
      "activation_2 (Activation)    (None, 270)               0         \n",
      "_________________________________________________________________\n",
      "reshape (Reshape)            (None, 9, 3, 10)          0         \n",
      "_________________________________________________________________\n",
      "up_sampling2d (UpSampling2D) (None, 18, 3, 10)         0         \n",
      "_________________________________________________________________\n",
      "zero_padding2d (ZeroPadding2 (None, 19, 3, 10)         0         \n",
      "_________________________________________________________________\n",
      "conv2d_1 (Conv2D)            (None, 19, 3, 1)          90        \n",
      "_________________________________________________________________\n",
      "batch_normalization_1 (Batch (None, 19, 3, 1)          4         \n",
      "_________________________________________________________________\n",
      "activation_3 (Activation)    (None, 19, 3, 1)          0         \n",
      "=================================================================\n",
      "Total params: 4,822\n",
      "Trainable params: 4,800\n",
      "Non-trainable params: 22\n",
      "_________________________________________________________________\n"
     ]
    }
   ],
   "source": [
    "#encoder\n",
    "input_encoder = Input(shape=(image_shape))\n",
    "x = Conv2D(10, kernel_size=(3, 3),\n",
    "         use_bias=False, data_format='channels_last', padding='same')(input_encoder)\n",
    "x = AveragePooling2D(pool_size = (2, 1))(x)\n",
    "x = BatchNormalization()(x)\n",
    "x = Activation('relu')(x)\n",
    "x = Flatten()(x)\n",
    "x = Dense(latent_dimension)(x)\n",
    "enc = Activation('relu')(x)\n",
    "encoder = Model(inputs=input_encoder, outputs=enc)\n",
    "#decoder\n",
    "x = Dense(270)(enc)\n",
    "x = Activation('relu')(x)\n",
    "x = Reshape((9,3,10))(x)\n",
    "x = UpSampling2D((2, 1))(x)\n",
    "x = ZeroPadding2D(((1, 0),(0,0)))(x)\n",
    "x = Conv2D(1, kernel_size=(3,3), use_bias=False, data_format='channels_last', padding='same')(x)\n",
    "x = BatchNormalization()(x)\n",
    "dec = Activation('relu')(x)\n",
    "\n",
    "autoencoder = Model(inputs=input_encoder, outputs=dec)\n",
    "autoencoder.summary()"
   ]
  },
  {
   "cell_type": "code",
   "execution_count": 9,
   "id": "7ac31e11",
   "metadata": {},
   "outputs": [],
   "source": [
    "autoencoder.compile(optimizer = keras.optimizers.Adam(), loss='mse')"
   ]
  },
  {
   "cell_type": "markdown",
   "id": "763cd21d",
   "metadata": {},
   "source": [
    "## Train model"
   ]
  },
  {
   "cell_type": "code",
   "execution_count": 10,
   "id": "b2844c7b",
   "metadata": {},
   "outputs": [],
   "source": [
    "EPOCHS = 10\n",
    "BATCH_SIZE = 1024"
   ]
  },
  {
   "cell_type": "code",
   "execution_count": 11,
   "id": "883c0086",
   "metadata": {},
   "outputs": [
    {
     "name": "stdout",
     "output_type": "stream",
     "text": [
      "Epoch 1/10\n",
      "625/625 [==============================] - 2s 3ms/step - loss: 63.9496 - val_loss: 55.2107\n",
      "Epoch 2/10\n",
      "625/625 [==============================] - 2s 3ms/step - loss: 51.9880 - val_loss: 45.9986\n",
      "Epoch 3/10\n",
      "625/625 [==============================] - 2s 3ms/step - loss: 43.2894 - val_loss: 38.4884\n",
      "Epoch 4/10\n",
      "625/625 [==============================] - 2s 3ms/step - loss: 35.9381 - val_loss: 31.7916\n",
      "Epoch 5/10\n",
      "625/625 [==============================] - 2s 3ms/step - loss: 29.5737 - val_loss: 26.1075\n",
      "Epoch 6/10\n",
      "625/625 [==============================] - 2s 3ms/step - loss: 24.0057 - val_loss: 20.7708\n",
      "Epoch 7/10\n",
      "625/625 [==============================] - 2s 3ms/step - loss: 19.1478 - val_loss: 16.3680\n",
      "Epoch 8/10\n",
      "625/625 [==============================] - 2s 2ms/step - loss: 14.9454 - val_loss: 12.6476\n",
      "Epoch 9/10\n",
      "625/625 [==============================] - 2s 3ms/step - loss: 11.3771 - val_loss: 9.3703\n",
      "Epoch 10/10\n",
      "625/625 [==============================] - 2s 3ms/step - loss: 8.3969 - val_loss: 6.8152\n"
     ]
    }
   ],
   "source": [
    "history = autoencoder.fit(X_train, X_train, epochs = EPOCHS, batch_size = BATCH_SIZE,\n",
    "                  validation_data=(X_val, X_val))"
   ]
  },
  {
   "cell_type": "code",
   "execution_count": 12,
   "id": "efb8efe4",
   "metadata": {},
   "outputs": [],
   "source": [
    "model_name = 'CNN_AE'\n",
    "model_directory = 'CNNS/'\n",
    "if not os.path.exists(model_directory+model_name):\n",
    "    os.makedirs(model_directory+model_name)\n",
    "save_model(model_directory+model_name, autoencoder)"
   ]
  },
  {
   "cell_type": "markdown",
   "id": "7989f156",
   "metadata": {},
   "source": [
    "## Prediction - background"
   ]
  },
  {
   "cell_type": "code",
   "execution_count": 13,
   "id": "bfe5ce9a",
   "metadata": {},
   "outputs": [],
   "source": [
    "bkg_prediction = autoencoder.predict(X_test)"
   ]
  },
  {
   "cell_type": "markdown",
   "id": "46bdc3d3",
   "metadata": {},
   "source": [
    "## Prediction - signals"
   ]
  },
  {
   "cell_type": "code",
   "execution_count": 14,
   "id": "2987e8c6",
   "metadata": {},
   "outputs": [],
   "source": [
    "# add correct signal labels\n",
    "signal_labels = ['Data']"
   ]
  },
  {
   "cell_type": "code",
   "execution_count": 15,
   "id": "93f5107a",
   "metadata": {},
   "outputs": [],
   "source": [
    "# add correct path to signal files\n",
    "signals_file = ['/global/cscratch1/sd/vmikuni/ADC/Ato4l_lepFilter_13TeV_dataset.h5']"
   ]
  },
  {
   "cell_type": "code",
   "execution_count": 16,
   "id": "7401da92",
   "metadata": {},
   "outputs": [],
   "source": [
    "# read signal data\n",
    "signal_data = []\n",
    "for i, label in enumerate(signal_labels):\n",
    "    with h5py.File(signals_file[i], 'r') as file:\n",
    "        test_data = np.array(file[label])\n",
    "    signal_data.append(test_data)"
   ]
  },
  {
   "cell_type": "code",
   "execution_count": 17,
   "id": "a3e69187",
   "metadata": {},
   "outputs": [],
   "source": [
    "signal_results = []\n",
    "\n",
    "for i, label in enumerate(signal_labels):\n",
    "    signal_prediction = autoencoder.predict(signal_data[i].reshape(-1,19,3,1))\n",
    "    signal_results.append([label, signal_data[i], signal_prediction]) # save [label, true, prediction] for signal"
   ]
  },
  {
   "cell_type": "markdown",
   "id": "4cc9b504",
   "metadata": {},
   "source": [
    "## Save results"
   ]
  },
  {
   "cell_type": "code",
   "execution_count": 18,
   "id": "3689de80",
   "metadata": {},
   "outputs": [],
   "source": [
    "save_file = 'cnnae_results'"
   ]
  },
  {
   "cell_type": "code",
   "execution_count": 19,
   "id": "9a94e1b0",
   "metadata": {},
   "outputs": [],
   "source": [
    "with h5py.File(save_file, 'w') as file:\n",
    "    file.create_dataset('BKG_input', data=X_test)\n",
    "    file.create_dataset('BKG_predicted', data = bkg_prediction)\n",
    "    for i, sig in enumerate(signal_results):\n",
    "        file.create_dataset('%s_input' %sig[0], data=sig[1])\n",
    "        file.create_dataset('%s_predicted' %sig[0], data=sig[2])"
   ]
  },
  {
   "cell_type": "markdown",
   "id": "b176d70e",
   "metadata": {},
   "source": [
    "## Evaluate results\n",
    "\n",
    "1. Plot loss distribution after prediction (check loss value for signals)\n",
    "2. Plot ROC curves - how good is anomaly detection for chosen FPR threshold"
   ]
  },
  {
   "cell_type": "markdown",
   "id": "5fcbb48a",
   "metadata": {},
   "source": [
    "# 1."
   ]
  },
  {
   "cell_type": "code",
   "execution_count": 26,
   "id": "68f4636a",
   "metadata": {},
   "outputs": [
    {
     "data": {
      "text/plain": [
       "<module 'func' from '/global/u2/v/vmikuni/ADC2021-examplecode/func.py'>"
      ]
     },
     "execution_count": 26,
     "metadata": {},
     "output_type": "execute_result"
    }
   ],
   "source": [
    "import importlib\n",
    "import func\n",
    "from func import mse_loss\n",
    "importlib.reload(func)"
   ]
  },
  {
   "cell_type": "code",
   "execution_count": 1,
   "id": "b552bb7e",
   "metadata": {},
   "outputs": [
    {
     "ename": "NameError",
     "evalue": "name 'X_test' is not defined",
     "output_type": "error",
     "traceback": [
      "\u001b[0;31m---------------------------------------------------------------------------\u001b[0m",
      "\u001b[0;31mNameError\u001b[0m                                 Traceback (most recent call last)",
      "\u001b[0;32m<ipython-input-1-2367be83153c>\u001b[0m in \u001b[0;36m<module>\u001b[0;34m\u001b[0m\n\u001b[1;32m      1\u001b[0m \u001b[0;31m# compute loss value (true, predicted)\u001b[0m\u001b[0;34m\u001b[0m\u001b[0;34m\u001b[0m\u001b[0;34m\u001b[0m\u001b[0m\n\u001b[1;32m      2\u001b[0m \u001b[0mtotal_loss\u001b[0m \u001b[0;34m=\u001b[0m \u001b[0;34m[\u001b[0m\u001b[0;34m]\u001b[0m\u001b[0;34m\u001b[0m\u001b[0;34m\u001b[0m\u001b[0m\n\u001b[0;32m----> 3\u001b[0;31m \u001b[0mshape\u001b[0m\u001b[0;34m=\u001b[0m\u001b[0;34m(\u001b[0m\u001b[0;34m-\u001b[0m\u001b[0;36m1\u001b[0m\u001b[0;34m,\u001b[0m\u001b[0mX_test\u001b[0m\u001b[0;34m.\u001b[0m\u001b[0mshape\u001b[0m\u001b[0;34m[\u001b[0m\u001b[0;36m1\u001b[0m\u001b[0;34m]\u001b[0m\u001b[0;34m*\u001b[0m\u001b[0mX_test\u001b[0m\u001b[0;34m.\u001b[0m\u001b[0mshape\u001b[0m\u001b[0;34m[\u001b[0m\u001b[0;36m2\u001b[0m\u001b[0;34m]\u001b[0m\u001b[0;34m)\u001b[0m\u001b[0;34m\u001b[0m\u001b[0;34m\u001b[0m\u001b[0m\n\u001b[0m\u001b[1;32m      4\u001b[0m \u001b[0mtotal_loss\u001b[0m\u001b[0;34m.\u001b[0m\u001b[0mappend\u001b[0m\u001b[0;34m(\u001b[0m\u001b[0mmse_loss\u001b[0m\u001b[0;34m(\u001b[0m\u001b[0mX_test\u001b[0m\u001b[0;34m.\u001b[0m\u001b[0mreshape\u001b[0m\u001b[0;34m(\u001b[0m\u001b[0mshape\u001b[0m\u001b[0;34m)\u001b[0m\u001b[0;34m,\u001b[0m\u001b[0mbkg_prediction\u001b[0m\u001b[0;34m.\u001b[0m\u001b[0mreshape\u001b[0m\u001b[0;34m(\u001b[0m\u001b[0mshape\u001b[0m\u001b[0;34m)\u001b[0m\u001b[0;34m)\u001b[0m\u001b[0;34m)\u001b[0m\u001b[0;34m\u001b[0m\u001b[0;34m\u001b[0m\u001b[0m\n\u001b[1;32m      5\u001b[0m \u001b[0;32mfor\u001b[0m \u001b[0mi\u001b[0m\u001b[0;34m,\u001b[0m \u001b[0msignal_X\u001b[0m \u001b[0;32min\u001b[0m \u001b[0menumerate\u001b[0m\u001b[0;34m(\u001b[0m\u001b[0msignal_data\u001b[0m\u001b[0;34m)\u001b[0m\u001b[0;34m:\u001b[0m\u001b[0;34m\u001b[0m\u001b[0;34m\u001b[0m\u001b[0m\n",
      "\u001b[0;31mNameError\u001b[0m: name 'X_test' is not defined"
     ]
    }
   ],
   "source": [
    "# compute loss value (true, predicted)\n",
    "total_loss = []\n",
    "shape=(-1,X_test.shape[1]*X_test.shape[2])\n",
    "total_loss.append(mse_loss(X_test.reshape(shape),bkg_prediction.reshape(shape)))\n",
    "for i, signal_X in enumerate(signal_data):\n",
    "    total_loss.append(mse_loss(signal_X,(signal_results[i][2].reshape(shape))))"
   ]
  },
  {
   "cell_type": "code",
   "execution_count": 2,
   "id": "b2961a07",
   "metadata": {},
   "outputs": [
    {
     "ename": "NameError",
     "evalue": "name 'plt' is not defined",
     "output_type": "error",
     "traceback": [
      "\u001b[0;31m---------------------------------------------------------------------------\u001b[0m",
      "\u001b[0;31mNameError\u001b[0m                                 Traceback (most recent call last)",
      "\u001b[0;32m<ipython-input-2-8a3077f0939e>\u001b[0m in \u001b[0;36m<module>\u001b[0;34m\u001b[0m\n\u001b[1;32m      1\u001b[0m \u001b[0mbin_size\u001b[0m\u001b[0;34m=\u001b[0m\u001b[0;36m100\u001b[0m\u001b[0;34m\u001b[0m\u001b[0;34m\u001b[0m\u001b[0m\n\u001b[1;32m      2\u001b[0m \u001b[0;34m\u001b[0m\u001b[0m\n\u001b[0;32m----> 3\u001b[0;31m \u001b[0mplt\u001b[0m\u001b[0;34m.\u001b[0m\u001b[0mfigure\u001b[0m\u001b[0;34m(\u001b[0m\u001b[0mfigsize\u001b[0m\u001b[0;34m=\u001b[0m\u001b[0;34m(\u001b[0m\u001b[0;36m10\u001b[0m\u001b[0;34m,\u001b[0m\u001b[0;36m8\u001b[0m\u001b[0;34m)\u001b[0m\u001b[0;34m)\u001b[0m\u001b[0;34m\u001b[0m\u001b[0;34m\u001b[0m\u001b[0m\n\u001b[0m\u001b[1;32m      4\u001b[0m \u001b[0;32mfor\u001b[0m \u001b[0mi\u001b[0m\u001b[0;34m,\u001b[0m \u001b[0mlabel\u001b[0m \u001b[0;32min\u001b[0m \u001b[0menumerate\u001b[0m\u001b[0;34m(\u001b[0m\u001b[0msignal_labels\u001b[0m\u001b[0;34m)\u001b[0m\u001b[0;34m:\u001b[0m\u001b[0;34m\u001b[0m\u001b[0;34m\u001b[0m\u001b[0m\n\u001b[1;32m      5\u001b[0m     \u001b[0mplt\u001b[0m\u001b[0;34m.\u001b[0m\u001b[0mhist\u001b[0m\u001b[0;34m(\u001b[0m\u001b[0mtotal_loss\u001b[0m\u001b[0;34m[\u001b[0m\u001b[0mi\u001b[0m\u001b[0;34m]\u001b[0m\u001b[0;34m,\u001b[0m \u001b[0mbins\u001b[0m\u001b[0;34m=\u001b[0m\u001b[0mbin_size\u001b[0m\u001b[0;34m,\u001b[0m \u001b[0mlabel\u001b[0m\u001b[0;34m=\u001b[0m\u001b[0mlabel\u001b[0m\u001b[0;34m,\u001b[0m \u001b[0mdensity\u001b[0m \u001b[0;34m=\u001b[0m \u001b[0;32mTrue\u001b[0m\u001b[0;34m,\u001b[0m \u001b[0mhisttype\u001b[0m\u001b[0;34m=\u001b[0m\u001b[0;34m'step'\u001b[0m\u001b[0;34m,\u001b[0m \u001b[0mfill\u001b[0m\u001b[0;34m=\u001b[0m\u001b[0;32mFalse\u001b[0m\u001b[0;34m,\u001b[0m \u001b[0mlinewidth\u001b[0m\u001b[0;34m=\u001b[0m\u001b[0;36m1.5\u001b[0m\u001b[0;34m)\u001b[0m\u001b[0;34m\u001b[0m\u001b[0;34m\u001b[0m\u001b[0m\n",
      "\u001b[0;31mNameError\u001b[0m: name 'plt' is not defined"
     ]
    }
   ],
   "source": [
    "bin_size=100\n",
    "\n",
    "plt.hist(total_loss[0], bins=bin_size, label=\"Background\", density = True, histtype='step', fill=False, linewidth=1.5)\n",
    "plt.figure(figsize=(10,8))\n",
    "for i, label in enumerate(signal_labels):\n",
    "    plt.hist(total_loss[i+1], bins=bin_size, label=label, density = True, histtype='step', fill=False, linewidth=1.5)\n",
    "plt.yscale('log')\n",
    "plt.xlabel(\"Autoencoder Loss\")\n",
    "plt.ylabel(\"Probability (a.u.)\")\n",
    "plt.title('MSE loss')\n",
    "plt.legend(loc='best')\n",
    "plt.show()"
   ]
  },
  {
   "cell_type": "markdown",
   "id": "277c37f1",
   "metadata": {},
   "source": [
    "# 2."
   ]
  },
  {
   "cell_type": "code",
   "execution_count": 30,
   "id": "44785225",
   "metadata": {},
   "outputs": [],
   "source": [
    "from sklearn.metrics import roc_curve, auc"
   ]
  },
  {
   "cell_type": "code",
   "execution_count": 31,
   "id": "c365dff7",
   "metadata": {},
   "outputs": [],
   "source": [
    "labels = np.concatenate([['Background'], np.array(signal_labels)])"
   ]
  },
  {
   "cell_type": "code",
   "execution_count": 32,
   "id": "e084b093",
   "metadata": {},
   "outputs": [
    {
     "data": {
      "image/png": "[encoded data removed]",
      "text/plain": [
       "<Figure size 720x576 with 1 Axes>"
      ]
     },
     "metadata": {
      "needs_background": "light"
     },
     "output_type": "display_data"
    }
   ],
   "source": [
    "target_background = np.zeros(total_loss[0].shape[0])\n",
    "\n",
    "plt.figure(figsize=(10,8))\n",
    "for i, label in enumerate(labels):\n",
    "    if i == 0: continue # background events\n",
    "    \n",
    "    trueVal = np.concatenate((np.ones(total_loss[i].shape[0]), target_background)) # anomaly=1, bkg=0\n",
    "    predVal_loss = np.concatenate((total_loss[i], total_loss[0]))\n",
    "\n",
    "    fpr_loss, tpr_loss, threshold_loss = roc_curve(trueVal, predVal_loss)\n",
    "\n",
    "    auc_loss = auc(fpr_loss, tpr_loss)\n",
    "    \n",
    "    plt.plot(fpr_loss, tpr_loss, \"-\", label='%s (auc = %.1f%%)'%(label,auc_loss*100.), linewidth=1.5)\n",
    "    \n",
    "    plt.semilogx()\n",
    "    plt.semilogy()\n",
    "    plt.ylabel(\"True Positive Rate\")\n",
    "    plt.xlabel(\"False Positive Rate\")\n",
    "    plt.legend(loc='center right')\n",
    "    plt.grid(True)\n",
    "    plt.tight_layout()\n",
    "plt.plot(np.linspace(0, 1),np.linspace(0, 1), '--', color='0.75')\n",
    "plt.axvline(0.00001, color='red', linestyle='dashed', linewidth=1) # threshold value for measuring anomaly detection efficiency\n",
    "plt.title(\"ROC AE\")\n",
    "plt.show()"
   ]
  },
  {
   "cell_type": "code",
   "execution_count": null,
   "id": "fbf9862e",
   "metadata": {},
   "outputs": [],
   "source": []
  }
 ],
 "metadata": {
  "kernelspec": {
   "display_name": "tensorflow-v2.2.0-gpu",
   "language": "python",
   "name": "tensorflow_gpu_2.2.0-py37"
  },
  "language_info": {
   "codemirror_mode": {
    "name": "ipython",
    "version": 3
   },
   "file_extension": ".py",
   "mimetype": "text/x-python",
   "name": "python",
   "nbconvert_exporter": "python",
   "pygments_lexer": "ipython3",
   "version": "3.7.4"
  }
 },
 "nbformat": 4,
 "nbformat_minor": 5
}
