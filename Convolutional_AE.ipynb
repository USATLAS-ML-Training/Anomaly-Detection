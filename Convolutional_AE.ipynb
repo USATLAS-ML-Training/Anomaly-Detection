{
 "cells": [
  {
   "cell_type": "code",
   "execution_count": 1,
   "id": "c5ac1d8a",
   "metadata": {},
   "outputs": [],
   "source": [
    "#Choose the tensorflow-v2.2.0-gpu kernel from the dropdown menu!\n",
    "import numpy as np\n",
    "import h5py\n",
    "import math\n",
    "import os\n",
    "import pathlib\n",
    "import matplotlib.pyplot as plt\n",
    "import matplotlib\n",
    "%matplotlib inline\n",
    "import tensorflow as tf\n",
    "import tensorflow.keras as keras\n",
    "from tensorflow.keras.models import Model\n",
    "from tensorflow.keras.layers import Input, Dense,ZeroPadding2D, BatchNormalization, Activation, Layer, ReLU, LeakyReLU,Conv2D,AveragePooling2D,UpSampling2D,Reshape,Flatten\n",
    "from tensorflow.keras import backend as K"
   ]
  },
  {
   "cell_type": "code",
   "execution_count": 2,
   "id": "50b2e16b",
   "metadata": {},
   "outputs": [
    {
     "name": "stdout",
     "output_type": "stream",
     "text": [
      "2.2.0\n"
     ]
    }
   ],
   "source": [
    "# Must be TF version 2\n",
    "print(tf.__version__)"
   ]
  },
  {
   "cell_type": "code",
   "execution_count": 3,
   "id": "93887d9b",
   "metadata": {},
   "outputs": [],
   "source": [
    "from func import load_model, save_model"
   ]
  },
  {
   "cell_type": "markdown",
   "id": "b33a207a",
   "metadata": {},
   "source": [
    "## Load dataset"
   ]
  },
  {
   "cell_type": "code",
   "execution_count": 4,
   "id": "fa793615",
   "metadata": {},
   "outputs": [],
   "source": [
    "dataset_folder = '/global/cscratch1/sd/vmikuni/ADC/'\n",
    "# You should already have run\n",
    "# python create_datasets.py --bkg_file background_for_training.h5 --output_bkg_name 'BKG' --signals_files 'Ato4l_lepFilter_13TeV.h5' --output_signal_names 'Ato4l_lepFilter_13TeV' --events=1000000\n",
    "filename = 'BKG_dataset.h5'"
   ]
  },
  {
   "cell_type": "code",
   "execution_count": 5,
   "id": "8a7d8f3c",
   "metadata": {},
   "outputs": [
    {
     "name": "stdout",
     "output_type": "stream",
     "text": [
      "(640000, 57)\n",
      "(640000, 19, 3, 1)\n"
     ]
    }
   ],
   "source": [
    "# load background training data\n",
    "with h5py.File(dataset_folder+filename, 'r') as file:\n",
    "    X_train = np.array(file['X_train'])\n",
    "    X_test = np.array(file['X_test'])\n",
    "    X_val = np.array(file['X_val'])\n",
    "\n",
    "print(X_train.shape)\n",
    "X_train = np.reshape(X_train, (-1, 19,3,1))\n",
    "X_test = np.reshape(X_test, (-1, 19,3,1))\n",
    "X_val = np.reshape(X_val, (-1, 19,3,1))\n",
    "\n",
    "print(X_train.shape)"
   ]
  },
  {
   "cell_type": "markdown",
   "id": "7326ebec",
   "metadata": {},
   "source": [
    "## Define CNN architecture"
   ]
  },
  {
   "cell_type": "code",
   "execution_count": 6,
   "id": "5a735ec2",
   "metadata": {},
   "outputs": [],
   "source": [
    "image_shape = (19,3,1)\n",
    "latent_dimension = 8\n",
    "num_nodes=[16,8]"
   ]
  },
  {
   "cell_type": "code",
   "execution_count": 7,
   "id": "b2b6ce46",
   "metadata": {},
   "outputs": [
    {
     "name": "stdout",
     "output_type": "stream",
     "text": [
      "Model: \"model_1\"\n",
      "_________________________________________________________________\n",
      "Layer (type)                 Output Shape              Param #   \n",
      "=================================================================\n",
      "input_1 (InputLayer)         [(None, 19, 3, 1)]        0         \n",
      "_________________________________________________________________\n",
      "conv2d (Conv2D)              (None, 19, 3, 10)         90        \n",
      "_________________________________________________________________\n",
      "average_pooling2d (AveragePo (None, 9, 3, 10)          0         \n",
      "_________________________________________________________________\n",
      "flatten (Flatten)            (None, 270)               0         \n",
      "_________________________________________________________________\n",
      "dense (Dense)                (None, 8)                 2168      \n",
      "_________________________________________________________________\n",
      "dense_1 (Dense)              (None, 270)               2430      \n",
      "_________________________________________________________________\n",
      "activation (Activation)      (None, 270)               0         \n",
      "_________________________________________________________________\n",
      "reshape (Reshape)            (None, 9, 3, 10)          0         \n",
      "_________________________________________________________________\n",
      "up_sampling2d (UpSampling2D) (None, 18, 3, 10)         0         \n",
      "_________________________________________________________________\n",
      "zero_padding2d (ZeroPadding2 (None, 19, 3, 10)         0         \n",
      "_________________________________________________________________\n",
      "conv2d_1 (Conv2D)            (None, 19, 3, 1)          90        \n",
      "=================================================================\n",
      "Total params: 4,778\n",
      "Trainable params: 4,778\n",
      "Non-trainable params: 0\n",
      "_________________________________________________________________\n"
     ]
    }
   ],
   "source": [
    "#encoder\n",
    "input_encoder = Input(shape=(image_shape))\n",
    "x = Conv2D(10, kernel_size=(3, 3),\n",
    "         use_bias=False, padding='same',activation='swish')(input_encoder)\n",
    "x = AveragePooling2D(pool_size = (2, 1))(x)\n",
    "#x = BatchNormalization()(x)\n",
    "#x = Activation('relu')(x)\n",
    "x = Flatten()(x)\n",
    "enc = Dense(latent_dimension,activation='relu')(x)\n",
    "encoder = Model(inputs=input_encoder, outputs=enc)\n",
    "#decoder\n",
    "x = Dense(270)(enc)\n",
    "x = Activation('relu')(x)\n",
    "x = Reshape((9,3,10))(x)\n",
    "x = UpSampling2D((2, 1))(x)\n",
    "x = ZeroPadding2D(((1, 0),(0,0)))(x)\n",
    "dec = Conv2D(1, kernel_size=(3,3), use_bias=False,padding='same',activation='linear')(x)\n",
    "#x = BatchNormalization()(x)\n",
    "#dec = Activation('relu')(x)\n",
    "\n",
    "autoencoder = Model(inputs=input_encoder, outputs=dec)\n",
    "autoencoder.summary()"
   ]
  },
  {
   "cell_type": "code",
   "execution_count": 8,
   "id": "7ac31e11",
   "metadata": {},
   "outputs": [],
   "source": [
    "autoencoder.compile(optimizer = keras.optimizers.Adam(), loss='mse')"
   ]
  },
  {
   "cell_type": "markdown",
   "id": "763cd21d",
   "metadata": {},
   "source": [
    "## Train model"
   ]
  },
  {
   "cell_type": "code",
   "execution_count": 9,
   "id": "b2844c7b",
   "metadata": {},
   "outputs": [],
   "source": [
    "EPOCHS = 50\n",
    "BATCH_SIZE = 10000"
   ]
  },
  {
   "cell_type": "code",
   "execution_count": 10,
   "id": "883c0086",
   "metadata": {},
   "outputs": [
    {
     "name": "stdout",
     "output_type": "stream",
     "text": [
      "Epoch 1/50\n",
      "64/64 [==============================] - 1s 11ms/step - loss: 68.0167 - val_loss: 40.6099\n",
      "Epoch 2/50\n",
      "64/64 [==============================] - 1s 10ms/step - loss: 26.9791 - val_loss: 14.1641\n",
      "Epoch 3/50\n",
      "64/64 [==============================] - 1s 9ms/step - loss: 9.1250 - val_loss: 6.5490\n",
      "Epoch 4/50\n",
      "64/64 [==============================] - 1s 9ms/step - loss: 5.7023 - val_loss: 5.1369\n",
      "Epoch 5/50\n",
      "64/64 [==============================] - 1s 9ms/step - loss: 4.5062 - val_loss: 4.0268\n",
      "Epoch 6/50\n",
      "64/64 [==============================] - 1s 9ms/step - loss: 3.5533 - val_loss: 3.2563\n",
      "Epoch 7/50\n",
      "64/64 [==============================] - 1s 9ms/step - loss: 2.9626 - val_loss: 2.7927\n",
      "Epoch 8/50\n",
      "64/64 [==============================] - 1s 9ms/step - loss: 2.5810 - val_loss: 2.4359\n",
      "Epoch 9/50\n",
      "64/64 [==============================] - 1s 9ms/step - loss: 2.2358 - val_loss: 2.0660\n",
      "Epoch 10/50\n",
      "64/64 [==============================] - 1s 9ms/step - loss: 1.8499 - val_loss: 1.6586\n",
      "Epoch 11/50\n",
      "64/64 [==============================] - 1s 9ms/step - loss: 1.4841 - val_loss: 1.3163\n",
      "Epoch 12/50\n",
      "64/64 [==============================] - 1s 9ms/step - loss: 1.1848 - val_loss: 1.0573\n",
      "Epoch 13/50\n",
      "64/64 [==============================] - 1s 9ms/step - loss: 0.9660 - val_loss: 0.8597\n",
      "Epoch 14/50\n",
      "64/64 [==============================] - 1s 9ms/step - loss: 0.7821 - val_loss: 0.7058\n",
      "Epoch 15/50\n",
      "64/64 [==============================] - 1s 9ms/step - loss: 0.6444 - val_loss: 0.5838\n",
      "Epoch 16/50\n",
      "64/64 [==============================] - 1s 9ms/step - loss: 0.5371 - val_loss: 0.4864\n",
      "Epoch 17/50\n",
      "64/64 [==============================] - 1s 9ms/step - loss: 0.4669 - val_loss: 0.4440\n",
      "Epoch 18/50\n",
      "64/64 [==============================] - 1s 9ms/step - loss: 0.4236 - val_loss: 0.4037\n",
      "Epoch 19/50\n",
      "64/64 [==============================] - 1s 9ms/step - loss: 0.3979 - val_loss: 0.3836\n",
      "Epoch 20/50\n",
      "64/64 [==============================] - 1s 9ms/step - loss: 0.3838 - val_loss: 0.3694\n",
      "Epoch 21/50\n",
      "64/64 [==============================] - 1s 9ms/step - loss: 0.3719 - val_loss: 0.3593\n",
      "Epoch 22/50\n",
      "64/64 [==============================] - 1s 9ms/step - loss: 0.3616 - val_loss: 0.3515\n",
      "Epoch 23/50\n",
      "64/64 [==============================] - 1s 9ms/step - loss: 0.3551 - val_loss: 0.3460\n",
      "Epoch 24/50\n",
      "64/64 [==============================] - 1s 9ms/step - loss: 0.3488 - val_loss: 0.3583\n",
      "Epoch 25/50\n",
      "64/64 [==============================] - 1s 9ms/step - loss: 0.3440 - val_loss: 0.3332\n",
      "Epoch 26/50\n",
      "64/64 [==============================] - 1s 9ms/step - loss: 0.3377 - val_loss: 0.3298\n",
      "Epoch 27/50\n",
      "64/64 [==============================] - 1s 9ms/step - loss: 0.3348 - val_loss: 0.3338\n",
      "Epoch 28/50\n",
      "64/64 [==============================] - 1s 9ms/step - loss: 0.3317 - val_loss: 0.3246\n",
      "Epoch 29/50\n",
      "64/64 [==============================] - 1s 9ms/step - loss: 0.3267 - val_loss: 0.3177\n",
      "Epoch 30/50\n",
      "64/64 [==============================] - 1s 9ms/step - loss: 0.3236 - val_loss: 0.3175\n",
      "Epoch 31/50\n",
      "64/64 [==============================] - 1s 9ms/step - loss: 0.3223 - val_loss: 0.3156\n",
      "Epoch 32/50\n",
      "64/64 [==============================] - 1s 9ms/step - loss: 0.3207 - val_loss: 0.3134\n",
      "Epoch 33/50\n",
      "64/64 [==============================] - 1s 9ms/step - loss: 0.3165 - val_loss: 0.3091\n",
      "Epoch 34/50\n",
      "64/64 [==============================] - 1s 9ms/step - loss: 0.3180 - val_loss: 0.3089\n",
      "Epoch 35/50\n",
      "64/64 [==============================] - 1s 9ms/step - loss: 0.3140 - val_loss: 0.3054\n",
      "Epoch 36/50\n",
      "64/64 [==============================] - 1s 10ms/step - loss: 0.3110 - val_loss: 0.3031\n",
      "Epoch 37/50\n",
      "64/64 [==============================] - 1s 9ms/step - loss: 0.3095 - val_loss: 0.3073\n",
      "Epoch 38/50\n",
      "64/64 [==============================] - 1s 9ms/step - loss: 0.3089 - val_loss: 0.3011\n",
      "Epoch 39/50\n",
      "64/64 [==============================] - 1s 9ms/step - loss: 0.3064 - val_loss: 0.3042\n",
      "Epoch 40/50\n",
      "64/64 [==============================] - 1s 9ms/step - loss: 0.3066 - val_loss: 0.2979\n",
      "Epoch 41/50\n",
      "64/64 [==============================] - 1s 9ms/step - loss: 0.3035 - val_loss: 0.2953\n",
      "Epoch 42/50\n",
      "64/64 [==============================] - 1s 9ms/step - loss: 0.3029 - val_loss: 0.2968\n",
      "Epoch 43/50\n",
      "64/64 [==============================] - 1s 9ms/step - loss: 0.3027 - val_loss: 0.2958\n",
      "Epoch 44/50\n",
      "64/64 [==============================] - 1s 9ms/step - loss: 0.2996 - val_loss: 0.2953\n",
      "Epoch 45/50\n",
      "64/64 [==============================] - 1s 9ms/step - loss: 0.2987 - val_loss: 0.2916\n",
      "Epoch 46/50\n",
      "64/64 [==============================] - 1s 9ms/step - loss: 0.2997 - val_loss: 0.2906\n",
      "Epoch 47/50\n",
      "64/64 [==============================] - 1s 9ms/step - loss: 0.2956 - val_loss: 0.2917\n",
      "Epoch 48/50\n",
      "64/64 [==============================] - 1s 9ms/step - loss: 0.2973 - val_loss: 0.2877\n",
      "Epoch 49/50\n",
      "64/64 [==============================] - 1s 9ms/step - loss: 0.2950 - val_loss: 0.2955\n",
      "Epoch 50/50\n",
      "64/64 [==============================] - 1s 9ms/step - loss: 0.2960 - val_loss: 0.2873\n"
     ]
    }
   ],
   "source": [
    "history = autoencoder.fit(X_train, X_train, epochs = EPOCHS, batch_size = BATCH_SIZE,\n",
    "                  validation_data=(X_val, X_val))"
   ]
  },
  {
   "cell_type": "code",
   "execution_count": 11,
   "id": "efb8efe4",
   "metadata": {},
   "outputs": [],
   "source": [
    "model_name = 'CNN_AE'\n",
    "model_directory = 'CNNS/'\n",
    "if not os.path.exists(model_directory+model_name):\n",
    "    os.makedirs(model_directory+model_name)\n",
    "save_model(model_directory+model_name, autoencoder)"
   ]
  },
  {
   "cell_type": "markdown",
   "id": "7989f156",
   "metadata": {},
   "source": [
    "## Prediction - background"
   ]
  },
  {
   "cell_type": "code",
   "execution_count": 12,
   "id": "bfe5ce9a",
   "metadata": {},
   "outputs": [],
   "source": [
    "bkg_prediction = autoencoder.predict(X_test)"
   ]
  },
  {
   "cell_type": "markdown",
   "id": "46bdc3d3",
   "metadata": {},
   "source": [
    "## Prediction - signals"
   ]
  },
  {
   "cell_type": "code",
   "execution_count": 13,
   "id": "2987e8c6",
   "metadata": {},
   "outputs": [],
   "source": [
    "# add correct signal labels\n",
    "signal_labels = ['A to 4 leptons',\n",
    "                 'h to tau tau',\n",
    "                 'leptoquark',\n",
    "                 'charged h to tau nu']"
   ]
  },
  {
   "cell_type": "code",
   "execution_count": 14,
   "id": "93f5107a",
   "metadata": {},
   "outputs": [],
   "source": [
    "# add correct path to signal files\n",
    "signals_file = ['Ato4l_lepFilter_13TeV_dataset.h5',\n",
    "                'hToTauTau_13TeV_PU20_dataset.h5',\n",
    "                'leptoquark_LOWMASS_lepFilter_13TeV_dataset.h5',\n",
    "                'hChToTauNu_13TeV_PU20_dataset.h5']"
   ]
  },
  {
   "cell_type": "code",
   "execution_count": 15,
   "id": "7401da92",
   "metadata": {},
   "outputs": [],
   "source": [
    "# read signal data\n",
    "signal_data = []\n",
    "for i, label in enumerate(signal_labels):\n",
    "    with h5py.File(dataset_folder+signals_file[i], 'r') as file:\n",
    "        test_data = np.array(file['Data'])\n",
    "    signal_data.append(test_data)"
   ]
  },
  {
   "cell_type": "code",
   "execution_count": 16,
   "id": "a3e69187",
   "metadata": {},
   "outputs": [],
   "source": [
    "signal_results = []\n",
    "\n",
    "for i, label in enumerate(signal_labels):\n",
    "    signal_prediction = autoencoder.predict(signal_data[i].reshape(-1,19,3,1))\n",
    "    signal_results.append([label, signal_data[i], signal_prediction]) # save [label, true, prediction] for signal"
   ]
  },
  {
   "cell_type": "markdown",
   "id": "4cc9b504",
   "metadata": {},
   "source": [
    "## Save results"
   ]
  },
  {
   "cell_type": "code",
   "execution_count": 17,
   "id": "3689de80",
   "metadata": {},
   "outputs": [],
   "source": [
    "save_file = 'cnnae_results'"
   ]
  },
  {
   "cell_type": "code",
   "execution_count": 18,
   "id": "9a94e1b0",
   "metadata": {},
   "outputs": [],
   "source": [
    "with h5py.File(save_file, 'w') as file:\n",
    "    file.create_dataset('BKG_input', data=X_test)\n",
    "    file.create_dataset('BKG_predicted', data = bkg_prediction)\n",
    "    for i, sig in enumerate(signal_results):\n",
    "        file.create_dataset('%s_input' %sig[0], data=sig[1])\n",
    "        file.create_dataset('%s_predicted' %sig[0], data=sig[2])"
   ]
  },
  {
   "cell_type": "markdown",
   "id": "b176d70e",
   "metadata": {},
   "source": [
    "## Evaluate results\n",
    "\n",
    "1. Plot loss distribution after prediction (check loss value for signals)\n",
    "2. Plot ROC curves - how good is anomaly detection for chosen FPR threshold"
   ]
  },
  {
   "cell_type": "markdown",
   "id": "5fcbb48a",
   "metadata": {},
   "source": [
    "# 1."
   ]
  },
  {
   "cell_type": "code",
   "execution_count": 19,
   "id": "68f4636a",
   "metadata": {},
   "outputs": [],
   "source": [
    "from func import mse_loss\n"
   ]
  },
  {
   "cell_type": "code",
   "execution_count": 20,
   "id": "b552bb7e",
   "metadata": {},
   "outputs": [],
   "source": [
    "# compute loss value (true, predicted)\n",
    "total_loss = []\n",
    "shape=(-1,X_test.shape[1]*X_test.shape[2])\n",
    "total_loss.append(mse_loss(X_test.reshape(shape),bkg_prediction.reshape(shape)))\n",
    "for i, signal_X in enumerate(signal_data):\n",
    "    total_loss.append(mse_loss(signal_X,(signal_results[i][2].reshape(shape))))"
   ]
  },
  {
   "cell_type": "code",
   "execution_count": 21,
   "id": "b2961a07",
   "metadata": {},
   "outputs": [
    {
     "data": {
      "image/png": "[encoded data removed]",
      "text/plain": [
       "<Figure size 720x576 with 1 Axes>"
      ]
     },
     "metadata": {
      "needs_background": "light"
     },
     "output_type": "display_data"
    }
   ],
   "source": [
    "bin_size=30\n",
    "\n",
    "plt.figure(figsize=(10,8))\n",
    "plt.hist(total_loss[0], bins=bin_size, label=\"Background\", density = True, histtype='step', fill=False, linewidth=1.5)\n",
    "for i, label in enumerate(signal_labels):\n",
    "    plt.hist(total_loss[i+1], bins=bin_size, label=label, density = True, histtype='step', fill=False, linewidth=1.5)\n",
    "plt.yscale('log')\n",
    "plt.xlabel(\"Autoencoder Loss\")\n",
    "plt.ylabel(\"Probability (a.u.)\")\n",
    "plt.title('MSE loss')\n",
    "plt.legend(loc='best')\n",
    "plt.show()"
   ]
  },
  {
   "cell_type": "markdown",
   "id": "277c37f1",
   "metadata": {},
   "source": [
    "# 2."
   ]
  },
  {
   "cell_type": "code",
   "execution_count": 22,
   "id": "44785225",
   "metadata": {},
   "outputs": [],
   "source": [
    "from sklearn.metrics import roc_curve, auc"
   ]
  },
  {
   "cell_type": "code",
   "execution_count": 23,
   "id": "c365dff7",
   "metadata": {},
   "outputs": [],
   "source": [
    "labels = np.concatenate([['Background'], np.array(signal_labels)])"
   ]
  },
  {
   "cell_type": "code",
   "execution_count": 24,
   "id": "e084b093",
   "metadata": {},
   "outputs": [
    {
     "data": {
      "image/png": "[encoded data removed]",
      "text/plain": [
       "<Figure size 720x576 with 1 Axes>"
      ]
     },
     "metadata": {
      "needs_background": "light"
     },
     "output_type": "display_data"
    }
   ],
   "source": [
    "target_background = np.zeros(total_loss[0].shape[0])\n",
    "\n",
    "plt.figure(figsize=(10,8))\n",
    "for i, label in enumerate(labels):\n",
    "    if i == 0: continue # background events\n",
    "    \n",
    "    trueVal = np.concatenate((np.ones(total_loss[i].shape[0]), target_background)) # anomaly=1, bkg=0\n",
    "    predVal_loss = np.concatenate((total_loss[i], total_loss[0]))\n",
    "\n",
    "    fpr_loss, tpr_loss, threshold_loss = roc_curve(trueVal, predVal_loss)\n",
    "\n",
    "    auc_loss = auc(fpr_loss, tpr_loss)\n",
    "    \n",
    "    plt.plot(fpr_loss, tpr_loss, \"-\", label='%s (auc = %.1f%%)'%(label,auc_loss*100.), linewidth=1.5)\n",
    "    \n",
    "    plt.semilogx()\n",
    "    plt.semilogy()\n",
    "    plt.ylabel(\"True Positive Rate\")\n",
    "    plt.xlabel(\"False Positive Rate\")\n",
    "    plt.legend(loc='center right')\n",
    "    plt.grid(True)\n",
    "    plt.tight_layout()\n",
    "plt.plot(np.linspace(0, 1),np.linspace(0, 1), '--', color='0.75')\n",
    "plt.axvline(0.00001, color='red', linestyle='dashed', linewidth=1) # threshold value for measuring anomaly detection efficiency\n",
    "plt.title(\"ROC AE\")\n",
    "plt.show()"
   ]
  }
 ],
 "metadata": {
  "kernelspec": {
   "display_name": "tensorflow-v2.2.0-gpu",
   "language": "python",
   "name": "tensorflow_gpu_2.2.0-py37"
  },
  "language_info": {
   "codemirror_mode": {
    "name": "ipython",
    "version": 3
   },
   "file_extension": ".py",
   "mimetype": "text/x-python",
   "name": "python",
   "nbconvert_exporter": "python",
   "pygments_lexer": "ipython3",
   "version": "3.7.4"
  }
 },
 "nbformat": 4,
 "nbformat_minor": 5
}
